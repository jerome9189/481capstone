{
 "cells": [
  {
   "cell_type": "code",
   "execution_count": 19,
   "metadata": {},
   "outputs": [
    {
     "name": "stdout",
     "output_type": "stream",
     "text": [
      "Collecting sentencepiece\n",
      "  Downloading sentencepiece-0.1.86-cp38-cp38-macosx_10_6_x86_64.whl (1.0 MB)\n",
      "\u001b[K     |████████████████████████████████| 1.0 MB 3.9 MB/s eta 0:00:01\n",
      "\u001b[?25hInstalling collected packages: sentencepiece\n",
      "Successfully installed sentencepiece-0.1.86\n"
     ]
    }
   ],
   "source": [
    "!pip install sentencepiece"
   ]
  },
  {
   "cell_type": "code",
   "execution_count": 1,
   "metadata": {},
   "outputs": [],
   "source": [
    "from official.nlp.xlnet.xlnet_modeling import ClassificationXLNetModel"
   ]
  },
  {
   "cell_type": "code",
   "execution_count": 7,
   "metadata": {},
   "outputs": [],
   "source": [
    "from official.nlp.xlnet.xlnet_config import RunConfig, XLNetConfig\n",
    "from official.nlp.xlnet.preprocess_classification_data import InputExample\n",
    "import sentencepiece"
   ]
  },
  {
   "cell_type": "code",
   "execution_count": 8,
   "metadata": {},
   "outputs": [],
   "source": [
    "run_config = RunConfig(False, False, dropout=0.5, dropout_att=0.1)"
   ]
  },
  {
   "cell_type": "code",
   "execution_count": 9,
   "metadata": {},
   "outputs": [],
   "source": [
    "xlnet_config = XLNetConfig(args_dict=dict(n_layer=24, d_model=1024,n_head=16,d_head=64,d_inner=4096,ff_activation='gelu',untie_r=True,n_token=32000))"
   ]
  },
  {
   "cell_type": "code",
   "execution_count": 10,
   "metadata": {},
   "outputs": [],
   "source": [
    "model = ClassificationXLNetModel(xlnet_config=xlnet_config, run_config=run_config,n_class=4,summary_type='last')"
   ]
  },
  {
   "cell_type": "code",
   "execution_count": 11,
   "metadata": {},
   "outputs": [],
   "source": [
    "text_a = \"\"\"Banksy 'Arrested & Real Identity Revealed' Is The Same Hoax From Last Year\"\"\"\n",
    "text_b = \"\"\"If you’ve seen a story floating around on your Facebook feed about Banksy getting arrested and exposed, don’t worry because Banksy is still anonymous and well. The hoax was the work of a “satirical” news site called The National Report — which I’m not linking because f*ck those guys — that makes up fake stories that sound like they could be ostensibly true, usually without a trace of actual satire, as filthy, filthy clickbait. It’s an awful yet unfortunately effective business model.\n",
    "\n",
    "In a story which was published early this morning, The National Report claimed that Banksy was arrested in London by a 24-hour Anti-Graffiti Task Force and revealed to be a 35-year-old man named Paul Horner. The International Business Times did some quick fact checking and exposed the story to be a hoax:\n",
    "\n",
    "Paul Horner is the name given to a Facebook spokesperson who said the site will soon be charging users $2.99 a month – another hoax story that comes around every now and again – as well as the name from a hoax story about a 15-year-old Louisiana teen who was sentenced to 25 years to life after he called a SWAT team to another teenager’s house after he beat him while playing Battlefield 4.\n",
    "\n",
    "The article is also said to have been written by Dr Darius Rubics, a fake name for a writer who claims to have be a Pulitzer-prize winning reporter but who, unsurprisingly since his previous stories include ‘Obama Declares November National Muslim Appreciation Month’ and ‘Dennis Rodman Leaves US To Talk With Leaders Of Isis’, has never been awarded any prizes for excellence in journalism.\n",
    "\n",
    "HAHA get it? It’s funny because it’s not true! I guess there’s some logic in there somewhere. It’s not even entertaining to see people share stories that come from places like the The National Report since they’re designed to trick — unlike when dumb people share stories from The Onion, which are designed to actually be satire. Again, and I cannot stress this enough: F*ck those guys.\"\"\"\n",
    "\n",
    "label = 'agree'"
   ]
  },
  {
   "cell_type": "code",
   "execution_count": 12,
   "metadata": {},
   "outputs": [],
   "source": [
    "example = InputExample(1, text_a=text_a, text_b=text_b, label=label)"
   ]
  },
  {
   "cell_type": "code",
   "execution_count": 17,
   "metadata": {},
   "outputs": [
    {
     "ename": "UnparsedFlagAccessError",
     "evalue": "Trying to access flag --uncased before flags were parsed.",
     "output_type": "error",
     "traceback": [
      "\u001b[0;31m---------------------------------------------------------------------------\u001b[0m",
      "\u001b[0;31mUnparsedFlagAccessError\u001b[0m                   Traceback (most recent call last)",
      "\u001b[0;32m<ipython-input-17-1e102355eda3>\u001b[0m in \u001b[0;36m<module>\u001b[0;34m\u001b[0m\n\u001b[1;32m      7\u001b[0m     \u001b[0;32mreturn\u001b[0m \u001b[0mpreprocess_utils\u001b[0m\u001b[0;34m.\u001b[0m\u001b[0mencode_ids\u001b[0m\u001b[0;34m(\u001b[0m\u001b[0msp\u001b[0m\u001b[0;34m,\u001b[0m \u001b[0mtext\u001b[0m\u001b[0;34m)\u001b[0m\u001b[0;34m\u001b[0m\u001b[0;34m\u001b[0m\u001b[0m\n\u001b[1;32m      8\u001b[0m \u001b[0;34m\u001b[0m\u001b[0m\n\u001b[0;32m----> 9\u001b[0;31m features = convert_single_example(example_index=0, example=example, label_list=['unrelated', 'agree', 'disagree', 'discuss'],\n\u001b[0m\u001b[1;32m     10\u001b[0m                                   max_seq_length=128, tokenize_fn=tokenize_fn, use_bert_format=False)\n",
      "\u001b[0;32m~/481capstone/models/official/nlp/xlnet/classifier_utils.py\u001b[0m in \u001b[0;36mconvert_single_example\u001b[0;34m(example_index, example, label_list, max_seq_length, tokenize_fn, use_bert_format)\u001b[0m\n\u001b[1;32m     84\u001b[0m       \u001b[0mlabel_map\u001b[0m\u001b[0;34m[\u001b[0m\u001b[0mlabel\u001b[0m\u001b[0;34m]\u001b[0m \u001b[0;34m=\u001b[0m \u001b[0mi\u001b[0m\u001b[0;34m\u001b[0m\u001b[0;34m\u001b[0m\u001b[0m\n\u001b[1;32m     85\u001b[0m \u001b[0;34m\u001b[0m\u001b[0m\n\u001b[0;32m---> 86\u001b[0;31m   \u001b[0mtokens_a\u001b[0m \u001b[0;34m=\u001b[0m \u001b[0mtokenize_fn\u001b[0m\u001b[0;34m(\u001b[0m\u001b[0mexample\u001b[0m\u001b[0;34m.\u001b[0m\u001b[0mtext_a\u001b[0m\u001b[0;34m)\u001b[0m\u001b[0;34m\u001b[0m\u001b[0;34m\u001b[0m\u001b[0m\n\u001b[0m\u001b[1;32m     87\u001b[0m   \u001b[0mtokens_b\u001b[0m \u001b[0;34m=\u001b[0m \u001b[0;32mNone\u001b[0m\u001b[0;34m\u001b[0m\u001b[0;34m\u001b[0m\u001b[0m\n\u001b[1;32m     88\u001b[0m   \u001b[0;32mif\u001b[0m \u001b[0mexample\u001b[0m\u001b[0;34m.\u001b[0m\u001b[0mtext_b\u001b[0m\u001b[0;34m:\u001b[0m\u001b[0;34m\u001b[0m\u001b[0;34m\u001b[0m\u001b[0m\n",
      "\u001b[0;32m<ipython-input-17-1e102355eda3>\u001b[0m in \u001b[0;36mtokenize_fn\u001b[0;34m(text)\u001b[0m\n\u001b[1;32m      4\u001b[0m \u001b[0;34m\u001b[0m\u001b[0m\n\u001b[1;32m      5\u001b[0m \u001b[0;32mdef\u001b[0m \u001b[0mtokenize_fn\u001b[0m\u001b[0;34m(\u001b[0m\u001b[0mtext\u001b[0m\u001b[0;34m)\u001b[0m\u001b[0;34m:\u001b[0m\u001b[0;34m\u001b[0m\u001b[0;34m\u001b[0m\u001b[0m\n\u001b[0;32m----> 6\u001b[0;31m     \u001b[0mtext\u001b[0m \u001b[0;34m=\u001b[0m \u001b[0mpreprocess_utils\u001b[0m\u001b[0;34m.\u001b[0m\u001b[0mpreprocess_text\u001b[0m\u001b[0;34m(\u001b[0m\u001b[0mtext\u001b[0m\u001b[0;34m,\u001b[0m \u001b[0mlower\u001b[0m\u001b[0;34m=\u001b[0m\u001b[0mpcd\u001b[0m\u001b[0;34m.\u001b[0m\u001b[0mFLAGS\u001b[0m\u001b[0;34m.\u001b[0m\u001b[0muncased\u001b[0m\u001b[0;34m)\u001b[0m\u001b[0;34m\u001b[0m\u001b[0;34m\u001b[0m\u001b[0m\n\u001b[0m\u001b[1;32m      7\u001b[0m     \u001b[0;32mreturn\u001b[0m \u001b[0mpreprocess_utils\u001b[0m\u001b[0;34m.\u001b[0m\u001b[0mencode_ids\u001b[0m\u001b[0;34m(\u001b[0m\u001b[0msp\u001b[0m\u001b[0;34m,\u001b[0m \u001b[0mtext\u001b[0m\u001b[0;34m)\u001b[0m\u001b[0;34m\u001b[0m\u001b[0;34m\u001b[0m\u001b[0m\n\u001b[1;32m      8\u001b[0m \u001b[0;34m\u001b[0m\u001b[0m\n",
      "\u001b[0;32m~/miniconda3/envs/myenv/lib/python3.8/site-packages/absl/flags/_flagvalues.py\u001b[0m in \u001b[0;36m__getattr__\u001b[0;34m(self, name)\u001b[0m\n\u001b[1;32m    489\u001b[0m         \u001b[0;31m# get too much noise.\u001b[0m\u001b[0;34m\u001b[0m\u001b[0;34m\u001b[0m\u001b[0;34m\u001b[0m\u001b[0m\n\u001b[1;32m    490\u001b[0m         \u001b[0mlogging\u001b[0m\u001b[0;34m.\u001b[0m\u001b[0merror\u001b[0m\u001b[0;34m(\u001b[0m\u001b[0merror_message\u001b[0m\u001b[0;34m)\u001b[0m\u001b[0;34m\u001b[0m\u001b[0;34m\u001b[0m\u001b[0m\n\u001b[0;32m--> 491\u001b[0;31m       \u001b[0;32mraise\u001b[0m \u001b[0m_exceptions\u001b[0m\u001b[0;34m.\u001b[0m\u001b[0mUnparsedFlagAccessError\u001b[0m\u001b[0;34m(\u001b[0m\u001b[0merror_message\u001b[0m\u001b[0;34m)\u001b[0m\u001b[0;34m\u001b[0m\u001b[0;34m\u001b[0m\u001b[0m\n\u001b[0m\u001b[1;32m    492\u001b[0m \u001b[0;34m\u001b[0m\u001b[0m\n\u001b[1;32m    493\u001b[0m   \u001b[0;32mdef\u001b[0m \u001b[0m__setattr__\u001b[0m\u001b[0;34m(\u001b[0m\u001b[0mself\u001b[0m\u001b[0;34m,\u001b[0m \u001b[0mname\u001b[0m\u001b[0;34m,\u001b[0m \u001b[0mvalue\u001b[0m\u001b[0;34m)\u001b[0m\u001b[0;34m:\u001b[0m\u001b[0;34m\u001b[0m\u001b[0;34m\u001b[0m\u001b[0m\n",
      "\u001b[0;31mUnparsedFlagAccessError\u001b[0m: Trying to access flag --uncased before flags were parsed."
     ]
    }
   ],
   "source": [
    "from official.nlp.xlnet.classifier_utils import convert_single_example\n",
    "import official.nlp.xlnet.preprocess_utils as preprocess_utils\n",
    "import official.nlp.xlnet.preprocess_classification_data as pcd\n",
    "\n",
    "def tokenize_fn(text):\n",
    "    text = preprocess_utils.preprocess_text(text, lower=pcd.FLAGS.uncased)\n",
    "    return preprocess_utils.encode_ids(sp, text)\n",
    "\n",
    "features = convert_single_example(example_index=0, example=example, label_list=['unrelated', 'agree', 'disagree', 'discuss'],\n",
    "                                  max_seq_length=128, tokenize_fn=tokenize_fn, use_bert_format=False)\n"
   ]
  },
  {
   "cell_type": "code",
   "execution_count": null,
   "metadata": {},
   "outputs": [],
   "source": []
  }
 ],
 "metadata": {
  "kernelspec": {
   "display_name": "Python 3",
   "language": "python",
   "name": "python3"
  },
  "language_info": {
   "codemirror_mode": {
    "name": "ipython",
    "version": 3
   },
   "file_extension": ".py",
   "mimetype": "text/x-python",
   "name": "python",
   "nbconvert_exporter": "python",
   "pygments_lexer": "ipython3",
   "version": "3.8.2"
  }
 },
 "nbformat": 4,
 "nbformat_minor": 4
}
