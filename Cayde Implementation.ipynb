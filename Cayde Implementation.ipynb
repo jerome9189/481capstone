{
 "cells": [
  {
   "cell_type": "markdown",
   "metadata": {},
   "source": [
    "# 481n Project Advanced Solution"
   ]
  },
  {
   "cell_type": "code",
   "execution_count": 1,
   "metadata": {},
   "outputs": [
    {
     "name": "stdout",
     "output_type": "stream",
     "text": [
      "WARNING:tensorflow:From /opt/conda/lib/python3.7/site-packages/bert/optimization.py:87: The name tf.train.Optimizer is deprecated. Please use tf.compat.v1.train.Optimizer instead.\n",
      "\n"
     ]
    }
   ],
   "source": [
    "import cayde\n",
    "from cayde.well.nlpwell import NLPWell\n",
    "from cayde.classifier.dtree import DecisionTreeClassifier\n",
    "from cayde.classifier.ada import AdaBoosterClassifier\n",
    "from cayde.classifier.svm import SVMClassifier"
   ]
  },
  {
   "cell_type": "code",
   "execution_count": 2,
   "metadata": {},
   "outputs": [],
   "source": [
    "well = NLPWell(\"training_data.csv\")\n",
    "well.load_or_fetch()\n",
    "\n",
    "well.input_cols = [\"head\", \"body\"]\n",
    "well.text_cols = [\"head\", \"body\"]\n",
    "well.output_col = \"Stance\""
   ]
  },
  {
   "cell_type": "code",
   "execution_count": 3,
   "metadata": {},
   "outputs": [
    {
     "data": {
      "text/html": [
       "<div>\n",
       "<style scoped>\n",
       "    .dataframe tbody tr th:only-of-type {\n",
       "        vertical-align: middle;\n",
       "    }\n",
       "\n",
       "    .dataframe tbody tr th {\n",
       "        vertical-align: top;\n",
       "    }\n",
       "\n",
       "    .dataframe thead th {\n",
       "        text-align: right;\n",
       "    }\n",
       "</style>\n",
       "<table border=\"1\" class=\"dataframe\">\n",
       "  <thead>\n",
       "    <tr style=\"text-align: right;\">\n",
       "      <th></th>\n",
       "      <th>head</th>\n",
       "      <th>body</th>\n",
       "    </tr>\n",
       "  </thead>\n",
       "  <tbody>\n",
       "    <tr>\n",
       "      <th>0</th>\n",
       "      <td>Hundreds of Palestinians flee floods in Gaza a...</td>\n",
       "      <td>Hundreds of Palestinians were evacuated from t...</td>\n",
       "    </tr>\n",
       "    <tr>\n",
       "      <th>1</th>\n",
       "      <td>Spider burrowed through tourist's stomach and ...</td>\n",
       "      <td>Fear not arachnophobes, the story of Bunbury's...</td>\n",
       "    </tr>\n",
       "    <tr>\n",
       "      <th>2</th>\n",
       "      <td>'Nasa Confirms Earth Will Experience 6 Days of...</td>\n",
       "      <td>Thousands of people have been duped by a fake ...</td>\n",
       "    </tr>\n",
       "    <tr>\n",
       "      <th>3</th>\n",
       "      <td>Banksy 'Arrested &amp; Real Identity Revealed' Is ...</td>\n",
       "      <td>If you’ve seen a story floating around on your...</td>\n",
       "    </tr>\n",
       "    <tr>\n",
       "      <th>4</th>\n",
       "      <td>Woman detained in Lebanon is not al-Baghdadi's...</td>\n",
       "      <td>An Iraqi official denied that a woman detained...</td>\n",
       "    </tr>\n",
       "    <tr>\n",
       "      <th>...</th>\n",
       "      <td>...</td>\n",
       "      <td>...</td>\n",
       "    </tr>\n",
       "    <tr>\n",
       "      <th>4513</th>\n",
       "      <td>Tropical spider burrows under man's skin throu...</td>\n",
       "      <td>A trip to Bali has turned Dylan Thomas into a ...</td>\n",
       "    </tr>\n",
       "    <tr>\n",
       "      <th>4514</th>\n",
       "      <td>Tour, agent: Tiger Woods not banned</td>\n",
       "      <td>PALM BEACH GARDENS, Fla. -- A journeyman profe...</td>\n",
       "    </tr>\n",
       "    <tr>\n",
       "      <th>4515</th>\n",
       "      <td>Meteorite leaves crater in Nicaraguan capital ...</td>\n",
       "      <td>A blast near the Nicaraguan capital city of Ma...</td>\n",
       "    </tr>\n",
       "    <tr>\n",
       "      <th>4516</th>\n",
       "      <td>ESPN to save NFL's image with all-male domesti...</td>\n",
       "      <td>Tonight — finally! — ESPN is going to have an ...</td>\n",
       "    </tr>\n",
       "    <tr>\n",
       "      <th>4517</th>\n",
       "      <td>Mexico Says Missing Students Not Found In Firs...</td>\n",
       "      <td>The bodies found in a mass grave were confirme...</td>\n",
       "    </tr>\n",
       "  </tbody>\n",
       "</table>\n",
       "<p>4518 rows × 2 columns</p>\n",
       "</div>"
      ],
      "text/plain": [
       "                                                   head  \\\n",
       "0     Hundreds of Palestinians flee floods in Gaza a...   \n",
       "1     Spider burrowed through tourist's stomach and ...   \n",
       "2     'Nasa Confirms Earth Will Experience 6 Days of...   \n",
       "3     Banksy 'Arrested & Real Identity Revealed' Is ...   \n",
       "4     Woman detained in Lebanon is not al-Baghdadi's...   \n",
       "...                                                 ...   \n",
       "4513  Tropical spider burrows under man's skin throu...   \n",
       "4514                Tour, agent: Tiger Woods not banned   \n",
       "4515  Meteorite leaves crater in Nicaraguan capital ...   \n",
       "4516  ESPN to save NFL's image with all-male domesti...   \n",
       "4517  Mexico Says Missing Students Not Found In Firs...   \n",
       "\n",
       "                                                   body  \n",
       "0     Hundreds of Palestinians were evacuated from t...  \n",
       "1     Fear not arachnophobes, the story of Bunbury's...  \n",
       "2     Thousands of people have been duped by a fake ...  \n",
       "3     If you’ve seen a story floating around on your...  \n",
       "4     An Iraqi official denied that a woman detained...  \n",
       "...                                                 ...  \n",
       "4513  A trip to Bali has turned Dylan Thomas into a ...  \n",
       "4514  PALM BEACH GARDENS, Fla. -- A journeyman profe...  \n",
       "4515  A blast near the Nicaraguan capital city of Ma...  \n",
       "4516  Tonight — finally! — ESPN is going to have an ...  \n",
       "4517  The bodies found in a mass grave were confirme...  \n",
       "\n",
       "[4518 rows x 2 columns]"
      ]
     },
     "execution_count": 3,
     "metadata": {},
     "output_type": "execute_result"
    }
   ],
   "source": [
    "well.input_df"
   ]
  },
  {
   "cell_type": "code",
   "execution_count": 4,
   "metadata": {},
   "outputs": [],
   "source": [
    "# Work with a smaller dataset in a non-google TPU environment\n",
    "well = well.getToySample()"
   ]
  },
  {
   "cell_type": "code",
   "execution_count": 5,
   "metadata": {},
   "outputs": [
    {
     "data": {
      "text/html": [
       "<div>\n",
       "<style scoped>\n",
       "    .dataframe tbody tr th:only-of-type {\n",
       "        vertical-align: middle;\n",
       "    }\n",
       "\n",
       "    .dataframe tbody tr th {\n",
       "        vertical-align: top;\n",
       "    }\n",
       "\n",
       "    .dataframe thead th {\n",
       "        text-align: right;\n",
       "    }\n",
       "</style>\n",
       "<table border=\"1\" class=\"dataframe\">\n",
       "  <thead>\n",
       "    <tr style=\"text-align: right;\">\n",
       "      <th></th>\n",
       "      <th>Stance</th>\n",
       "      <th>head</th>\n",
       "      <th>body</th>\n",
       "    </tr>\n",
       "  </thead>\n",
       "  <tbody>\n",
       "    <tr>\n",
       "      <th>2867</th>\n",
       "      <td>1</td>\n",
       "      <td>KC hospital: Patient does not have symptom pro...</td>\n",
       "      <td>TOPEKA, Kan. (WIBW)- A Kansas City patient is ...</td>\n",
       "    </tr>\n",
       "    <tr>\n",
       "      <th>2094</th>\n",
       "      <td>1</td>\n",
       "      <td>Macaulay Culkin Victim of Another Online Death...</td>\n",
       "      <td>Macaulay Culkin is NOT dead. A “breaking news”...</td>\n",
       "    </tr>\n",
       "    <tr>\n",
       "      <th>2198</th>\n",
       "      <td>1</td>\n",
       "      <td>Bugatti Veyron Vandalized With Penis Graffiti?...</td>\n",
       "      <td>This picture of a penis spraypainted on a £1.5...</td>\n",
       "    </tr>\n",
       "    <tr>\n",
       "      <th>2520</th>\n",
       "      <td>0</td>\n",
       "      <td>KFC Marijuana Sales To Begin In Colorado? It’s...</td>\n",
       "      <td>KFC (NYSE:YUM) Gets Occupational Business Lice...</td>\n",
       "    </tr>\n",
       "    <tr>\n",
       "      <th>1056</th>\n",
       "      <td>1</td>\n",
       "      <td>Teen Made $72 Million Trading Stocks, Confirms...</td>\n",
       "      <td>If we've learned anything in 2014, it's that t...</td>\n",
       "    </tr>\n",
       "    <tr>\n",
       "      <th>2478</th>\n",
       "      <td>1</td>\n",
       "      <td>Ottawa gunman identified as 32-year-old Michae...</td>\n",
       "      <td>THE young soldier killed in a terror attack on...</td>\n",
       "    </tr>\n",
       "    <tr>\n",
       "      <th>3331</th>\n",
       "      <td>1</td>\n",
       "      <td>Bosnia: Seven underage girls return from five ...</td>\n",
       "      <td>Seven girls aged between 13 and 14 have fallen...</td>\n",
       "    </tr>\n",
       "    <tr>\n",
       "      <th>2</th>\n",
       "      <td>1</td>\n",
       "      <td>'Nasa Confirms Earth Will Experience 6 Days of...</td>\n",
       "      <td>Thousands of people have been duped by a fake ...</td>\n",
       "    </tr>\n",
       "    <tr>\n",
       "      <th>3079</th>\n",
       "      <td>1</td>\n",
       "      <td>UPDATE: Internet report of Ebola outbreak in P...</td>\n",
       "      <td>From Staff Reports\\r\\nAn Internet posting clai...</td>\n",
       "    </tr>\n",
       "    <tr>\n",
       "      <th>1692</th>\n",
       "      <td>0</td>\n",
       "      <td>First Human Death Confirmed From Eating GMO [S...</td>\n",
       "      <td>Madrid | The doctors of the Hospital Carlos II...</td>\n",
       "    </tr>\n",
       "    <tr>\n",
       "      <th>3376</th>\n",
       "      <td>1</td>\n",
       "      <td>The @FoxNewsPress Account Tweeting Lawsuit Thr...</td>\n",
       "      <td>A Twitter account associating itself with Fox ...</td>\n",
       "    </tr>\n",
       "    <tr>\n",
       "      <th>1391</th>\n",
       "      <td>0</td>\n",
       "      <td>Attorney: New audio reveals pause in gunfire w...</td>\n",
       "      <td>Mediaite writes about CNN’s morning show quest...</td>\n",
       "    </tr>\n",
       "    <tr>\n",
       "      <th>3946</th>\n",
       "      <td>1</td>\n",
       "      <td>The Arrest of the ISIS Leader's Wife and Son</td>\n",
       "      <td>DNA tests have confirmed that a daughter and a...</td>\n",
       "    </tr>\n",
       "    <tr>\n",
       "      <th>3423</th>\n",
       "      <td>0</td>\n",
       "      <td>What One Homeless Man Does with $100 Will Asto...</td>\n",
       "      <td>The video was one of those viral sensations th...</td>\n",
       "    </tr>\n",
       "    <tr>\n",
       "      <th>2479</th>\n",
       "      <td>1</td>\n",
       "      <td>Man Known as ‘Jihadi John’ Is Identified as Mo...</td>\n",
       "      <td>LONDON — The man in the black balaclava who ha...</td>\n",
       "    </tr>\n",
       "    <tr>\n",
       "      <th>2551</th>\n",
       "      <td>1</td>\n",
       "      <td>Everybody Relax, Banksy Wasn’t Arrested And Ex...</td>\n",
       "      <td>A hoax report filed by website nationalreport....</td>\n",
       "    </tr>\n",
       "    <tr>\n",
       "      <th>1387</th>\n",
       "      <td>1</td>\n",
       "      <td>Jeh Johnson shoots down Duncan Hunter's assert...</td>\n",
       "      <td>Federal officials have called a sitting U.S. R...</td>\n",
       "    </tr>\n",
       "    <tr>\n",
       "      <th>4194</th>\n",
       "      <td>1</td>\n",
       "      <td>Sugarhill Gang Rapper Big Bank Hank Dies at 57</td>\n",
       "      <td>Big Bank Hank ... the Sugarhill Gang rapper be...</td>\n",
       "    </tr>\n",
       "    <tr>\n",
       "      <th>4076</th>\n",
       "      <td>1</td>\n",
       "      <td>More than 200 kidnapped Nigerian girls to be r...</td>\n",
       "      <td>Nigeria has reached a ceasefire deal that will...</td>\n",
       "    </tr>\n",
       "    <tr>\n",
       "      <th>1325</th>\n",
       "      <td>0</td>\n",
       "      <td>Boko Haram agrees to ceasefire, release of sch...</td>\n",
       "      <td>MAIDUGURI, Nigeria — The leader of Boko Haram ...</td>\n",
       "    </tr>\n",
       "  </tbody>\n",
       "</table>\n",
       "</div>"
      ],
      "text/plain": [
       "      Stance                                               head  \\\n",
       "2867       1  KC hospital: Patient does not have symptom pro...   \n",
       "2094       1  Macaulay Culkin Victim of Another Online Death...   \n",
       "2198       1  Bugatti Veyron Vandalized With Penis Graffiti?...   \n",
       "2520       0  KFC Marijuana Sales To Begin In Colorado? It’s...   \n",
       "1056       1  Teen Made $72 Million Trading Stocks, Confirms...   \n",
       "2478       1  Ottawa gunman identified as 32-year-old Michae...   \n",
       "3331       1  Bosnia: Seven underage girls return from five ...   \n",
       "2          1  'Nasa Confirms Earth Will Experience 6 Days of...   \n",
       "3079       1  UPDATE: Internet report of Ebola outbreak in P...   \n",
       "1692       0  First Human Death Confirmed From Eating GMO [S...   \n",
       "3376       1  The @FoxNewsPress Account Tweeting Lawsuit Thr...   \n",
       "1391       0  Attorney: New audio reveals pause in gunfire w...   \n",
       "3946       1       The Arrest of the ISIS Leader's Wife and Son   \n",
       "3423       0  What One Homeless Man Does with $100 Will Asto...   \n",
       "2479       1  Man Known as ‘Jihadi John’ Is Identified as Mo...   \n",
       "2551       1  Everybody Relax, Banksy Wasn’t Arrested And Ex...   \n",
       "1387       1  Jeh Johnson shoots down Duncan Hunter's assert...   \n",
       "4194       1     Sugarhill Gang Rapper Big Bank Hank Dies at 57   \n",
       "4076       1  More than 200 kidnapped Nigerian girls to be r...   \n",
       "1325       0  Boko Haram agrees to ceasefire, release of sch...   \n",
       "\n",
       "                                                   body  \n",
       "2867  TOPEKA, Kan. (WIBW)- A Kansas City patient is ...  \n",
       "2094  Macaulay Culkin is NOT dead. A “breaking news”...  \n",
       "2198  This picture of a penis spraypainted on a £1.5...  \n",
       "2520  KFC (NYSE:YUM) Gets Occupational Business Lice...  \n",
       "1056  If we've learned anything in 2014, it's that t...  \n",
       "2478  THE young soldier killed in a terror attack on...  \n",
       "3331  Seven girls aged between 13 and 14 have fallen...  \n",
       "2     Thousands of people have been duped by a fake ...  \n",
       "3079  From Staff Reports\\r\\nAn Internet posting clai...  \n",
       "1692  Madrid | The doctors of the Hospital Carlos II...  \n",
       "3376  A Twitter account associating itself with Fox ...  \n",
       "1391  Mediaite writes about CNN’s morning show quest...  \n",
       "3946  DNA tests have confirmed that a daughter and a...  \n",
       "3423  The video was one of those viral sensations th...  \n",
       "2479  LONDON — The man in the black balaclava who ha...  \n",
       "2551  A hoax report filed by website nationalreport....  \n",
       "1387  Federal officials have called a sitting U.S. R...  \n",
       "4194  Big Bank Hank ... the Sugarhill Gang rapper be...  \n",
       "4076  Nigeria has reached a ceasefire deal that will...  \n",
       "1325  MAIDUGURI, Nigeria — The leader of Boko Haram ...  "
      ]
     },
     "execution_count": 5,
     "metadata": {},
     "output_type": "execute_result"
    }
   ],
   "source": [
    "well._df"
   ]
  },
  {
   "cell_type": "markdown",
   "metadata": {},
   "source": [
    "# API Demonstration"
   ]
  },
  {
   "cell_type": "code",
   "execution_count": 6,
   "metadata": {},
   "outputs": [
    {
     "data": {
      "text/plain": [
       "['head_1gram', 'head_clean', 'body_1gram', 'body_clean']"
      ]
     },
     "execution_count": 6,
     "metadata": {},
     "output_type": "execute_result"
    }
   ],
   "source": [
    "# Returns a list of new columns available for usage\n",
    "# This creates columns where the text is stemmed and cleaned\n",
    "well.clean_text()"
   ]
  },
  {
   "cell_type": "code",
   "execution_count": 7,
   "metadata": {},
   "outputs": [],
   "source": [
    "well.input_cols = ['head', 'body', 'head_clean', 'body_1gram']"
   ]
  },
  {
   "cell_type": "code",
   "execution_count": 8,
   "metadata": {},
   "outputs": [
    {
     "data": {
      "text/html": [
       "<div>\n",
       "<style scoped>\n",
       "    .dataframe tbody tr th:only-of-type {\n",
       "        vertical-align: middle;\n",
       "    }\n",
       "\n",
       "    .dataframe tbody tr th {\n",
       "        vertical-align: top;\n",
       "    }\n",
       "\n",
       "    .dataframe thead th {\n",
       "        text-align: right;\n",
       "    }\n",
       "</style>\n",
       "<table border=\"1\" class=\"dataframe\">\n",
       "  <thead>\n",
       "    <tr style=\"text-align: right;\">\n",
       "      <th></th>\n",
       "      <th>Stance</th>\n",
       "      <th>head</th>\n",
       "      <th>body</th>\n",
       "      <th>head_clean</th>\n",
       "      <th>body_1gram</th>\n",
       "    </tr>\n",
       "  </thead>\n",
       "  <tbody>\n",
       "    <tr>\n",
       "      <th>2867</th>\n",
       "      <td>1</td>\n",
       "      <td>KC hospital: Patient does not have symptom pro...</td>\n",
       "      <td>TOPEKA, Kan. (WIBW)- A Kansas City patient is ...</td>\n",
       "      <td>kc hospit patient doe symptom profil ebola</td>\n",
       "      <td>[topeka, kan, wibw, kansa, citi, patient, trea...</td>\n",
       "    </tr>\n",
       "    <tr>\n",
       "      <th>2094</th>\n",
       "      <td>1</td>\n",
       "      <td>Macaulay Culkin Victim of Another Online Death...</td>\n",
       "      <td>Macaulay Culkin is NOT dead. A “breaking news”...</td>\n",
       "      <td>macaulay culkin victim anoth onlin death hoax</td>\n",
       "      <td>[macaulay, culkin, dead, break, news, stori, c...</td>\n",
       "    </tr>\n",
       "    <tr>\n",
       "      <th>2198</th>\n",
       "      <td>1</td>\n",
       "      <td>Bugatti Veyron Vandalized With Penis Graffiti?...</td>\n",
       "      <td>This picture of a penis spraypainted on a £1.5...</td>\n",
       "      <td>bugatti veyron vandal peni graffiti viral phot...</td>\n",
       "      <td>[pictur, peni, spraypaint, million, bugatti, v...</td>\n",
       "    </tr>\n",
       "    <tr>\n",
       "      <th>2520</th>\n",
       "      <td>0</td>\n",
       "      <td>KFC Marijuana Sales To Begin In Colorado? It’s...</td>\n",
       "      <td>KFC (NYSE:YUM) Gets Occupational Business Lice...</td>\n",
       "      <td>kfc marijuana sale begin colorado unbeliev liter</td>\n",
       "      <td>[kfc, nyse, yum, get, occup, busi, licens, sel...</td>\n",
       "    </tr>\n",
       "    <tr>\n",
       "      <th>1056</th>\n",
       "      <td>1</td>\n",
       "      <td>Teen Made $72 Million Trading Stocks, Confirms...</td>\n",
       "      <td>If we've learned anything in 2014, it's that t...</td>\n",
       "      <td>teen made 72 million trade stock confirm teen ...</td>\n",
       "      <td>[learn, anyth, 2014, teenag, fear, rever, prof...</td>\n",
       "    </tr>\n",
       "  </tbody>\n",
       "</table>\n",
       "</div>"
      ],
      "text/plain": [
       "      Stance                                               head  \\\n",
       "2867       1  KC hospital: Patient does not have symptom pro...   \n",
       "2094       1  Macaulay Culkin Victim of Another Online Death...   \n",
       "2198       1  Bugatti Veyron Vandalized With Penis Graffiti?...   \n",
       "2520       0  KFC Marijuana Sales To Begin In Colorado? It’s...   \n",
       "1056       1  Teen Made $72 Million Trading Stocks, Confirms...   \n",
       "\n",
       "                                                   body  \\\n",
       "2867  TOPEKA, Kan. (WIBW)- A Kansas City patient is ...   \n",
       "2094  Macaulay Culkin is NOT dead. A “breaking news”...   \n",
       "2198  This picture of a penis spraypainted on a £1.5...   \n",
       "2520  KFC (NYSE:YUM) Gets Occupational Business Lice...   \n",
       "1056  If we've learned anything in 2014, it's that t...   \n",
       "\n",
       "                                             head_clean  \\\n",
       "2867         kc hospit patient doe symptom profil ebola   \n",
       "2094      macaulay culkin victim anoth onlin death hoax   \n",
       "2198  bugatti veyron vandal peni graffiti viral phot...   \n",
       "2520   kfc marijuana sale begin colorado unbeliev liter   \n",
       "1056  teen made 72 million trade stock confirm teen ...   \n",
       "\n",
       "                                             body_1gram  \n",
       "2867  [topeka, kan, wibw, kansa, citi, patient, trea...  \n",
       "2094  [macaulay, culkin, dead, break, news, stori, c...  \n",
       "2198  [pictur, peni, spraypaint, million, bugatti, v...  \n",
       "2520  [kfc, nyse, yum, get, occup, busi, licens, sel...  \n",
       "1056  [learn, anyth, 2014, teenag, fear, rever, prof...  "
      ]
     },
     "execution_count": 8,
     "metadata": {},
     "output_type": "execute_result"
    }
   ],
   "source": [
    "well.df.head()"
   ]
  },
  {
   "cell_type": "code",
   "execution_count": 9,
   "metadata": {},
   "outputs": [
    {
     "data": {
      "text/plain": [
       "['head_2gram',\n",
       " 'head_2gram_unique',\n",
       " 'head_2gram_size',\n",
       " 'head_2gram_unique_ratio',\n",
       " 'head_3gram',\n",
       " 'head_3gram_unique',\n",
       " 'head_3gram_size',\n",
       " 'head_3gram_unique_ratio',\n",
       " 'head_4gram',\n",
       " 'head_4gram_unique',\n",
       " 'head_4gram_size',\n",
       " 'head_4gram_unique_ratio',\n",
       " 'body_2gram',\n",
       " 'body_2gram_unique',\n",
       " 'body_2gram_size',\n",
       " 'body_2gram_unique_ratio',\n",
       " 'body_3gram',\n",
       " 'body_3gram_unique',\n",
       " 'body_3gram_size',\n",
       " 'body_3gram_unique_ratio',\n",
       " 'body_4gram',\n",
       " 'body_4gram_unique',\n",
       " 'body_4gram_size',\n",
       " 'body_4gram_unique_ratio']"
      ]
     },
     "execution_count": 9,
     "metadata": {},
     "output_type": "execute_result"
    }
   ],
   "source": [
    "# This creates columns where the text is converted to bigrams/trigrams\n",
    "well.createNgrams()"
   ]
  },
  {
   "cell_type": "code",
   "execution_count": 10,
   "metadata": {},
   "outputs": [
    {
     "data": {
      "text/plain": [
       "['head_contains_fake',\n",
       " 'head_contains_fraud',\n",
       " 'head_contains_hoax',\n",
       " 'head_contains_false',\n",
       " 'head_contains_deny',\n",
       " 'head_contains_denies',\n",
       " 'head_contains_refute',\n",
       " 'head_contains_not',\n",
       " 'head_contains_despite',\n",
       " 'head_contains_nope',\n",
       " 'head_contains_doubt',\n",
       " 'head_contains_doubts',\n",
       " 'head_contains_bogus',\n",
       " 'head_contains_debunk',\n",
       " 'head_contains_pranks',\n",
       " 'head_contains_retract',\n",
       " 'body_contains_fake',\n",
       " 'body_contains_fraud',\n",
       " 'body_contains_hoax',\n",
       " 'body_contains_false',\n",
       " 'body_contains_deny',\n",
       " 'body_contains_denies',\n",
       " 'body_contains_refute',\n",
       " 'body_contains_not',\n",
       " 'body_contains_despite',\n",
       " 'body_contains_nope',\n",
       " 'body_contains_doubt',\n",
       " 'body_contains_doubts',\n",
       " 'body_contains_bogus',\n",
       " 'body_contains_debunk',\n",
       " 'body_contains_pranks',\n",
       " 'body_contains_retract']"
      ]
     },
     "execution_count": 10,
     "metadata": {},
     "output_type": "execute_result"
    }
   ],
   "source": [
    "# Does the word exist in each text_column?\n",
    "well.createCountWordFeatures([\n",
    "    'fake',\n",
    "    'fraud',\n",
    "    'hoax',\n",
    "    'false',\n",
    "    'deny', 'denies',\n",
    "    'refute',\n",
    "    'not',\n",
    "    'despite',\n",
    "    'nope',\n",
    "    'doubt', 'doubts',\n",
    "    'bogus',\n",
    "    'debunk',\n",
    "    'pranks',\n",
    "    'retract'\n",
    "])"
   ]
  },
  {
   "cell_type": "code",
   "execution_count": 11,
   "metadata": {},
   "outputs": [],
   "source": [
    "well.input_cols = production_cols = [\n",
    " 'head_2gram_unique_ratio',\n",
    " 'head_3gram_unique_ratio',\n",
    " 'head_4gram_unique_ratio',\n",
    " 'body_2gram_unique_ratio',\n",
    " 'body_3gram_unique_ratio',\n",
    " 'body_4gram_unique_ratio'\n",
    "] + ['head_contains_fake',\n",
    " 'head_contains_fraud',\n",
    " 'head_contains_hoax',\n",
    " 'head_contains_false',\n",
    " 'head_contains_deny',\n",
    " 'head_contains_denies',\n",
    " 'head_contains_refute',\n",
    " 'head_contains_not',\n",
    " 'head_contains_despite',\n",
    " 'head_contains_nope',\n",
    " 'head_contains_doubt',\n",
    " 'head_contains_doubts',\n",
    " 'head_contains_bogus',\n",
    " 'head_contains_debunk',\n",
    " 'head_contains_pranks',\n",
    " 'head_contains_retract',\n",
    " 'body_contains_fake',\n",
    " 'body_contains_fraud',\n",
    " 'body_contains_hoax',\n",
    " 'body_contains_false',\n",
    " 'body_contains_deny',\n",
    " 'body_contains_denies',\n",
    " 'body_contains_refute',\n",
    " 'body_contains_not',\n",
    " 'body_contains_despite',\n",
    " 'body_contains_nope',\n",
    " 'body_contains_doubt',\n",
    " 'body_contains_doubts',\n",
    " 'body_contains_bogus',\n",
    " 'body_contains_debunk',\n",
    " 'body_contains_pranks',\n",
    " 'body_contains_retract'\n",
    "]"
   ]
  },
  {
   "cell_type": "code",
   "execution_count": 25,
   "metadata": {},
   "outputs": [
    {
     "data": {
      "text/plain": [
       "array([[1],\n",
       "       [1],\n",
       "       [1],\n",
       "       [0],\n",
       "       [1],\n",
       "       [1],\n",
       "       [1],\n",
       "       [1],\n",
       "       [1],\n",
       "       [0],\n",
       "       [1],\n",
       "       [0],\n",
       "       [1],\n",
       "       [0],\n",
       "       [1],\n",
       "       [1],\n",
       "       [1],\n",
       "       [1],\n",
       "       [1],\n",
       "       [0]])"
      ]
     },
     "execution_count": 25,
     "metadata": {},
     "output_type": "execute_result"
    }
   ],
   "source": [
    "well.y"
   ]
  },
  {
   "cell_type": "code",
   "execution_count": 12,
   "metadata": {},
   "outputs": [
    {
     "data": {
      "text/html": [
       "<div>\n",
       "<style scoped>\n",
       "    .dataframe tbody tr th:only-of-type {\n",
       "        vertical-align: middle;\n",
       "    }\n",
       "\n",
       "    .dataframe tbody tr th {\n",
       "        vertical-align: top;\n",
       "    }\n",
       "\n",
       "    .dataframe thead th {\n",
       "        text-align: right;\n",
       "    }\n",
       "</style>\n",
       "<table border=\"1\" class=\"dataframe\">\n",
       "  <thead>\n",
       "    <tr style=\"text-align: right;\">\n",
       "      <th></th>\n",
       "      <th>f1</th>\n",
       "      <th>accuracy</th>\n",
       "      <th>recall</th>\n",
       "      <th>precision</th>\n",
       "      <th>accuracyImprovement</th>\n",
       "    </tr>\n",
       "  </thead>\n",
       "  <tbody>\n",
       "    <tr>\n",
       "      <th>0</th>\n",
       "      <td>0.833333</td>\n",
       "      <td>0.714286</td>\n",
       "      <td>0.833333</td>\n",
       "      <td>0.833333</td>\n",
       "      <td>-0.035714</td>\n",
       "    </tr>\n",
       "    <tr>\n",
       "      <th>1</th>\n",
       "      <td>0.727273</td>\n",
       "      <td>0.571429</td>\n",
       "      <td>1.000000</td>\n",
       "      <td>0.571429</td>\n",
       "      <td>-0.178571</td>\n",
       "    </tr>\n",
       "    <tr>\n",
       "      <th>2</th>\n",
       "      <td>0.888889</td>\n",
       "      <td>0.833333</td>\n",
       "      <td>0.800000</td>\n",
       "      <td>1.000000</td>\n",
       "      <td>0.083333</td>\n",
       "    </tr>\n",
       "  </tbody>\n",
       "</table>\n",
       "</div>"
      ],
      "text/plain": [
       "         f1  accuracy    recall  precision  accuracyImprovement\n",
       "0  0.833333  0.714286  0.833333   0.833333            -0.035714\n",
       "1  0.727273  0.571429  1.000000   0.571429            -0.178571\n",
       "2  0.888889  0.833333  0.800000   1.000000             0.083333"
      ]
     },
     "execution_count": 12,
     "metadata": {},
     "output_type": "execute_result"
    }
   ],
   "source": [
    "clf = DecisionTreeClassifier(well)\n",
    "clf.fit()\n",
    "clf.accuracy()"
   ]
  },
  {
   "cell_type": "code",
   "execution_count": 13,
   "metadata": {},
   "outputs": [
    {
     "name": "stderr",
     "output_type": "stream",
     "text": [
      "/opt/conda/lib/python3.7/site-packages/sklearn/utils/validation.py:760: DataConversionWarning: A column-vector y was passed when a 1d array was expected. Please change the shape of y to (n_samples, ), for example using ravel().\n",
      "  y = column_or_1d(y, warn=True)\n"
     ]
    },
    {
     "data": {
      "text/html": [
       "<div>\n",
       "<style scoped>\n",
       "    .dataframe tbody tr th:only-of-type {\n",
       "        vertical-align: middle;\n",
       "    }\n",
       "\n",
       "    .dataframe tbody tr th {\n",
       "        vertical-align: top;\n",
       "    }\n",
       "\n",
       "    .dataframe thead th {\n",
       "        text-align: right;\n",
       "    }\n",
       "</style>\n",
       "<table border=\"1\" class=\"dataframe\">\n",
       "  <thead>\n",
       "    <tr style=\"text-align: right;\">\n",
       "      <th></th>\n",
       "      <th>f1</th>\n",
       "      <th>accuracy</th>\n",
       "      <th>recall</th>\n",
       "      <th>precision</th>\n",
       "      <th>accuracyImprovement</th>\n",
       "    </tr>\n",
       "  </thead>\n",
       "  <tbody>\n",
       "    <tr>\n",
       "      <th>0</th>\n",
       "      <td>0.833333</td>\n",
       "      <td>0.714286</td>\n",
       "      <td>0.833333</td>\n",
       "      <td>0.833333</td>\n",
       "      <td>-0.035714</td>\n",
       "    </tr>\n",
       "    <tr>\n",
       "      <th>1</th>\n",
       "      <td>0.727273</td>\n",
       "      <td>0.571429</td>\n",
       "      <td>1.000000</td>\n",
       "      <td>0.571429</td>\n",
       "      <td>-0.178571</td>\n",
       "    </tr>\n",
       "    <tr>\n",
       "      <th>2</th>\n",
       "      <td>0.800000</td>\n",
       "      <td>0.666667</td>\n",
       "      <td>0.800000</td>\n",
       "      <td>0.800000</td>\n",
       "      <td>-0.083333</td>\n",
       "    </tr>\n",
       "  </tbody>\n",
       "</table>\n",
       "</div>"
      ],
      "text/plain": [
       "         f1  accuracy    recall  precision  accuracyImprovement\n",
       "0  0.833333  0.714286  0.833333   0.833333            -0.035714\n",
       "1  0.727273  0.571429  1.000000   0.571429            -0.178571\n",
       "2  0.800000  0.666667  0.800000   0.800000            -0.083333"
      ]
     },
     "execution_count": 13,
     "metadata": {},
     "output_type": "execute_result"
    }
   ],
   "source": [
    "clf = AdaBoosterClassifier(well, n_estimators=150)\n",
    "clf.fit()\n",
    "clf.accuracy()"
   ]
  },
  {
   "cell_type": "code",
   "execution_count": 14,
   "metadata": {},
   "outputs": [
    {
     "name": "stderr",
     "output_type": "stream",
     "text": [
      "/opt/conda/lib/python3.7/site-packages/sklearn/utils/validation.py:760: DataConversionWarning: A column-vector y was passed when a 1d array was expected. Please change the shape of y to (n_samples, ), for example using ravel().\n",
      "  y = column_or_1d(y, warn=True)\n"
     ]
    },
    {
     "data": {
      "text/html": [
       "<div>\n",
       "<style scoped>\n",
       "    .dataframe tbody tr th:only-of-type {\n",
       "        vertical-align: middle;\n",
       "    }\n",
       "\n",
       "    .dataframe tbody tr th {\n",
       "        vertical-align: top;\n",
       "    }\n",
       "\n",
       "    .dataframe thead th {\n",
       "        text-align: right;\n",
       "    }\n",
       "</style>\n",
       "<table border=\"1\" class=\"dataframe\">\n",
       "  <thead>\n",
       "    <tr style=\"text-align: right;\">\n",
       "      <th></th>\n",
       "      <th>f1</th>\n",
       "      <th>accuracy</th>\n",
       "      <th>recall</th>\n",
       "      <th>precision</th>\n",
       "      <th>accuracyImprovement</th>\n",
       "    </tr>\n",
       "  </thead>\n",
       "  <tbody>\n",
       "    <tr>\n",
       "      <th>0</th>\n",
       "      <td>0.923077</td>\n",
       "      <td>0.857143</td>\n",
       "      <td>1.0</td>\n",
       "      <td>0.857143</td>\n",
       "      <td>0.107143</td>\n",
       "    </tr>\n",
       "    <tr>\n",
       "      <th>1</th>\n",
       "      <td>0.727273</td>\n",
       "      <td>0.571429</td>\n",
       "      <td>1.0</td>\n",
       "      <td>0.571429</td>\n",
       "      <td>-0.178571</td>\n",
       "    </tr>\n",
       "    <tr>\n",
       "      <th>2</th>\n",
       "      <td>0.909091</td>\n",
       "      <td>0.833333</td>\n",
       "      <td>1.0</td>\n",
       "      <td>0.833333</td>\n",
       "      <td>0.083333</td>\n",
       "    </tr>\n",
       "  </tbody>\n",
       "</table>\n",
       "</div>"
      ],
      "text/plain": [
       "         f1  accuracy  recall  precision  accuracyImprovement\n",
       "0  0.923077  0.857143     1.0   0.857143             0.107143\n",
       "1  0.727273  0.571429     1.0   0.571429            -0.178571\n",
       "2  0.909091  0.833333     1.0   0.833333             0.083333"
      ]
     },
     "execution_count": 14,
     "metadata": {},
     "output_type": "execute_result"
    }
   ],
   "source": [
    "clf = SVMClassifier(well)\n",
    "clf.fit()\n",
    "clf.accuracy()"
   ]
  },
  {
   "cell_type": "markdown",
   "metadata": {},
   "source": [
    "# Demonstrating BERT & Cayde"
   ]
  },
  {
   "cell_type": "code",
   "execution_count": 15,
   "metadata": {
    "scrolled": true
   },
   "outputs": [
    {
     "name": "stdout",
     "output_type": "stream",
     "text": [
      "INFO:tensorflow:Saver not created because there are no variables in the graph to restore\n"
     ]
    },
    {
     "name": "stderr",
     "output_type": "stream",
     "text": [
      "INFO:tensorflow:Saver not created because there are no variables in the graph to restore\n"
     ]
    },
    {
     "name": "stdout",
     "output_type": "stream",
     "text": [
      "WARNING:tensorflow:From /home/project/cayde/well/nlpwell.py:213: The name tf.Session is deprecated. Please use tf.compat.v1.Session instead.\n",
      "\n"
     ]
    },
    {
     "name": "stderr",
     "output_type": "stream",
     "text": [
      "WARNING:tensorflow:From /home/project/cayde/well/nlpwell.py:213: The name tf.Session is deprecated. Please use tf.compat.v1.Session instead.\n",
      "\n"
     ]
    },
    {
     "name": "stdout",
     "output_type": "stream",
     "text": [
      "WARNING:tensorflow:From /opt/conda/lib/python3.7/site-packages/bert/tokenization.py:125: The name tf.gfile.GFile is deprecated. Please use tf.io.gfile.GFile instead.\n",
      "\n"
     ]
    },
    {
     "name": "stderr",
     "output_type": "stream",
     "text": [
      "WARNING:tensorflow:From /opt/conda/lib/python3.7/site-packages/bert/tokenization.py:125: The name tf.gfile.GFile is deprecated. Please use tf.io.gfile.GFile instead.\n",
      "\n"
     ]
    },
    {
     "name": "stdout",
     "output_type": "stream",
     "text": [
      "WARNING:tensorflow:From /opt/conda/lib/python3.7/site-packages/bert/run_classifier.py:774: The name tf.logging.info is deprecated. Please use tf.compat.v1.logging.info instead.\n",
      "\n"
     ]
    },
    {
     "name": "stderr",
     "output_type": "stream",
     "text": [
      "WARNING:tensorflow:From /opt/conda/lib/python3.7/site-packages/bert/run_classifier.py:774: The name tf.logging.info is deprecated. Please use tf.compat.v1.logging.info instead.\n",
      "\n"
     ]
    },
    {
     "name": "stdout",
     "output_type": "stream",
     "text": [
      "INFO:tensorflow:Writing example 0 of 20\n"
     ]
    },
    {
     "name": "stderr",
     "output_type": "stream",
     "text": [
      "INFO:tensorflow:Writing example 0 of 20\n"
     ]
    },
    {
     "name": "stdout",
     "output_type": "stream",
     "text": [
      "INFO:tensorflow:*** Example ***\n"
     ]
    },
    {
     "name": "stderr",
     "output_type": "stream",
     "text": [
      "INFO:tensorflow:*** Example ***\n"
     ]
    },
    {
     "name": "stdout",
     "output_type": "stream",
     "text": [
      "INFO:tensorflow:guid: None\n"
     ]
    },
    {
     "name": "stderr",
     "output_type": "stream",
     "text": [
      "INFO:tensorflow:guid: None\n"
     ]
    },
    {
     "name": "stdout",
     "output_type": "stream",
     "text": [
      "INFO:tensorflow:tokens: [CLS] kc hospital : patient does not have sy ##mpt ##om profile of e ##bola [SEP]\n"
     ]
    },
    {
     "name": "stderr",
     "output_type": "stream",
     "text": [
      "INFO:tensorflow:tokens: [CLS] kc hospital : patient does not have sy ##mpt ##om profile of e ##bola [SEP]\n"
     ]
    },
    {
     "name": "stdout",
     "output_type": "stream",
     "text": [
      "INFO:tensorflow:input_ids: 101 21117 2902 1024 5776 2515 2025 2031 25353 27718 5358 6337 1997 1041 24290 102 0 0 0 0 0 0 0 0 0 0 0 0 0 0 0 0 0 0 0 0 0 0 0 0 0 0 0 0 0 0 0 0 0 0 0 0 0 0 0 0 0 0 0 0 0 0 0 0 0 0 0 0 0 0 0 0 0 0 0 0 0 0 0 0 0 0 0 0 0 0 0 0 0 0 0 0 0 0 0 0 0 0 0 0 0 0 0 0 0 0 0 0 0 0 0 0 0 0 0 0 0 0 0 0 0 0 0 0 0 0 0 0\n"
     ]
    },
    {
     "name": "stderr",
     "output_type": "stream",
     "text": [
      "INFO:tensorflow:input_ids: 101 21117 2902 1024 5776 2515 2025 2031 25353 27718 5358 6337 1997 1041 24290 102 0 0 0 0 0 0 0 0 0 0 0 0 0 0 0 0 0 0 0 0 0 0 0 0 0 0 0 0 0 0 0 0 0 0 0 0 0 0 0 0 0 0 0 0 0 0 0 0 0 0 0 0 0 0 0 0 0 0 0 0 0 0 0 0 0 0 0 0 0 0 0 0 0 0 0 0 0 0 0 0 0 0 0 0 0 0 0 0 0 0 0 0 0 0 0 0 0 0 0 0 0 0 0 0 0 0 0 0 0 0 0 0\n"
     ]
    },
    {
     "name": "stdout",
     "output_type": "stream",
     "text": [
      "INFO:tensorflow:input_mask: 1 1 1 1 1 1 1 1 1 1 1 1 1 1 1 1 0 0 0 0 0 0 0 0 0 0 0 0 0 0 0 0 0 0 0 0 0 0 0 0 0 0 0 0 0 0 0 0 0 0 0 0 0 0 0 0 0 0 0 0 0 0 0 0 0 0 0 0 0 0 0 0 0 0 0 0 0 0 0 0 0 0 0 0 0 0 0 0 0 0 0 0 0 0 0 0 0 0 0 0 0 0 0 0 0 0 0 0 0 0 0 0 0 0 0 0 0 0 0 0 0 0 0 0 0 0 0 0\n"
     ]
    },
    {
     "name": "stderr",
     "output_type": "stream",
     "text": [
      "INFO:tensorflow:input_mask: 1 1 1 1 1 1 1 1 1 1 1 1 1 1 1 1 0 0 0 0 0 0 0 0 0 0 0 0 0 0 0 0 0 0 0 0 0 0 0 0 0 0 0 0 0 0 0 0 0 0 0 0 0 0 0 0 0 0 0 0 0 0 0 0 0 0 0 0 0 0 0 0 0 0 0 0 0 0 0 0 0 0 0 0 0 0 0 0 0 0 0 0 0 0 0 0 0 0 0 0 0 0 0 0 0 0 0 0 0 0 0 0 0 0 0 0 0 0 0 0 0 0 0 0 0 0 0 0\n"
     ]
    },
    {
     "name": "stdout",
     "output_type": "stream",
     "text": [
      "INFO:tensorflow:segment_ids: 0 0 0 0 0 0 0 0 0 0 0 0 0 0 0 0 0 0 0 0 0 0 0 0 0 0 0 0 0 0 0 0 0 0 0 0 0 0 0 0 0 0 0 0 0 0 0 0 0 0 0 0 0 0 0 0 0 0 0 0 0 0 0 0 0 0 0 0 0 0 0 0 0 0 0 0 0 0 0 0 0 0 0 0 0 0 0 0 0 0 0 0 0 0 0 0 0 0 0 0 0 0 0 0 0 0 0 0 0 0 0 0 0 0 0 0 0 0 0 0 0 0 0 0 0 0 0 0\n"
     ]
    },
    {
     "name": "stderr",
     "output_type": "stream",
     "text": [
      "INFO:tensorflow:segment_ids: 0 0 0 0 0 0 0 0 0 0 0 0 0 0 0 0 0 0 0 0 0 0 0 0 0 0 0 0 0 0 0 0 0 0 0 0 0 0 0 0 0 0 0 0 0 0 0 0 0 0 0 0 0 0 0 0 0 0 0 0 0 0 0 0 0 0 0 0 0 0 0 0 0 0 0 0 0 0 0 0 0 0 0 0 0 0 0 0 0 0 0 0 0 0 0 0 0 0 0 0 0 0 0 0 0 0 0 0 0 0 0 0 0 0 0 0 0 0 0 0 0 0 0 0 0 0 0 0\n"
     ]
    },
    {
     "name": "stdout",
     "output_type": "stream",
     "text": [
      "INFO:tensorflow:label: 1 (id = 0)\n"
     ]
    },
    {
     "name": "stderr",
     "output_type": "stream",
     "text": [
      "INFO:tensorflow:label: 1 (id = 0)\n"
     ]
    },
    {
     "name": "stdout",
     "output_type": "stream",
     "text": [
      "INFO:tensorflow:*** Example ***\n"
     ]
    },
    {
     "name": "stderr",
     "output_type": "stream",
     "text": [
      "INFO:tensorflow:*** Example ***\n"
     ]
    },
    {
     "name": "stdout",
     "output_type": "stream",
     "text": [
      "INFO:tensorflow:guid: None\n"
     ]
    },
    {
     "name": "stderr",
     "output_type": "stream",
     "text": [
      "INFO:tensorflow:guid: None\n"
     ]
    },
    {
     "name": "stdout",
     "output_type": "stream",
     "text": [
      "INFO:tensorflow:tokens: [CLS] macau ##lay cu ##lk ##in victim of another online death hoax [SEP]\n"
     ]
    },
    {
     "name": "stderr",
     "output_type": "stream",
     "text": [
      "INFO:tensorflow:tokens: [CLS] macau ##lay cu ##lk ##in victim of another online death hoax [SEP]\n"
     ]
    },
    {
     "name": "stdout",
     "output_type": "stream",
     "text": [
      "INFO:tensorflow:input_ids: 101 16878 8485 12731 13687 2378 6778 1997 2178 3784 2331 28520 102 0 0 0 0 0 0 0 0 0 0 0 0 0 0 0 0 0 0 0 0 0 0 0 0 0 0 0 0 0 0 0 0 0 0 0 0 0 0 0 0 0 0 0 0 0 0 0 0 0 0 0 0 0 0 0 0 0 0 0 0 0 0 0 0 0 0 0 0 0 0 0 0 0 0 0 0 0 0 0 0 0 0 0 0 0 0 0 0 0 0 0 0 0 0 0 0 0 0 0 0 0 0 0 0 0 0 0 0 0 0 0 0 0 0 0\n"
     ]
    },
    {
     "name": "stderr",
     "output_type": "stream",
     "text": [
      "INFO:tensorflow:input_ids: 101 16878 8485 12731 13687 2378 6778 1997 2178 3784 2331 28520 102 0 0 0 0 0 0 0 0 0 0 0 0 0 0 0 0 0 0 0 0 0 0 0 0 0 0 0 0 0 0 0 0 0 0 0 0 0 0 0 0 0 0 0 0 0 0 0 0 0 0 0 0 0 0 0 0 0 0 0 0 0 0 0 0 0 0 0 0 0 0 0 0 0 0 0 0 0 0 0 0 0 0 0 0 0 0 0 0 0 0 0 0 0 0 0 0 0 0 0 0 0 0 0 0 0 0 0 0 0 0 0 0 0 0 0\n"
     ]
    },
    {
     "name": "stdout",
     "output_type": "stream",
     "text": [
      "INFO:tensorflow:input_mask: 1 1 1 1 1 1 1 1 1 1 1 1 1 0 0 0 0 0 0 0 0 0 0 0 0 0 0 0 0 0 0 0 0 0 0 0 0 0 0 0 0 0 0 0 0 0 0 0 0 0 0 0 0 0 0 0 0 0 0 0 0 0 0 0 0 0 0 0 0 0 0 0 0 0 0 0 0 0 0 0 0 0 0 0 0 0 0 0 0 0 0 0 0 0 0 0 0 0 0 0 0 0 0 0 0 0 0 0 0 0 0 0 0 0 0 0 0 0 0 0 0 0 0 0 0 0 0 0\n"
     ]
    },
    {
     "name": "stderr",
     "output_type": "stream",
     "text": [
      "INFO:tensorflow:input_mask: 1 1 1 1 1 1 1 1 1 1 1 1 1 0 0 0 0 0 0 0 0 0 0 0 0 0 0 0 0 0 0 0 0 0 0 0 0 0 0 0 0 0 0 0 0 0 0 0 0 0 0 0 0 0 0 0 0 0 0 0 0 0 0 0 0 0 0 0 0 0 0 0 0 0 0 0 0 0 0 0 0 0 0 0 0 0 0 0 0 0 0 0 0 0 0 0 0 0 0 0 0 0 0 0 0 0 0 0 0 0 0 0 0 0 0 0 0 0 0 0 0 0 0 0 0 0 0 0\n"
     ]
    },
    {
     "name": "stdout",
     "output_type": "stream",
     "text": [
      "INFO:tensorflow:segment_ids: 0 0 0 0 0 0 0 0 0 0 0 0 0 0 0 0 0 0 0 0 0 0 0 0 0 0 0 0 0 0 0 0 0 0 0 0 0 0 0 0 0 0 0 0 0 0 0 0 0 0 0 0 0 0 0 0 0 0 0 0 0 0 0 0 0 0 0 0 0 0 0 0 0 0 0 0 0 0 0 0 0 0 0 0 0 0 0 0 0 0 0 0 0 0 0 0 0 0 0 0 0 0 0 0 0 0 0 0 0 0 0 0 0 0 0 0 0 0 0 0 0 0 0 0 0 0 0 0\n"
     ]
    },
    {
     "name": "stderr",
     "output_type": "stream",
     "text": [
      "INFO:tensorflow:segment_ids: 0 0 0 0 0 0 0 0 0 0 0 0 0 0 0 0 0 0 0 0 0 0 0 0 0 0 0 0 0 0 0 0 0 0 0 0 0 0 0 0 0 0 0 0 0 0 0 0 0 0 0 0 0 0 0 0 0 0 0 0 0 0 0 0 0 0 0 0 0 0 0 0 0 0 0 0 0 0 0 0 0 0 0 0 0 0 0 0 0 0 0 0 0 0 0 0 0 0 0 0 0 0 0 0 0 0 0 0 0 0 0 0 0 0 0 0 0 0 0 0 0 0 0 0 0 0 0 0\n"
     ]
    },
    {
     "name": "stdout",
     "output_type": "stream",
     "text": [
      "INFO:tensorflow:label: 1 (id = 0)\n"
     ]
    },
    {
     "name": "stderr",
     "output_type": "stream",
     "text": [
      "INFO:tensorflow:label: 1 (id = 0)\n"
     ]
    },
    {
     "name": "stdout",
     "output_type": "stream",
     "text": [
      "INFO:tensorflow:*** Example ***\n"
     ]
    },
    {
     "name": "stderr",
     "output_type": "stream",
     "text": [
      "INFO:tensorflow:*** Example ***\n"
     ]
    },
    {
     "name": "stdout",
     "output_type": "stream",
     "text": [
      "INFO:tensorflow:guid: None\n"
     ]
    },
    {
     "name": "stderr",
     "output_type": "stream",
     "text": [
      "INFO:tensorflow:guid: None\n"
     ]
    },
    {
     "name": "stdout",
     "output_type": "stream",
     "text": [
      "INFO:tensorflow:tokens: [CLS] bug ##att ##i ve ##yr ##on van ##dal ##ized with penis graffiti ? viral photo isn ’ t what it seems [SEP]\n"
     ]
    },
    {
     "name": "stderr",
     "output_type": "stream",
     "text": [
      "INFO:tensorflow:tokens: [CLS] bug ##att ##i ve ##yr ##on van ##dal ##ized with penis graffiti ? viral photo isn ’ t what it seems [SEP]\n"
     ]
    },
    {
     "name": "stdout",
     "output_type": "stream",
     "text": [
      "INFO:tensorflow:input_ids: 101 11829 19321 2072 2310 12541 2239 3158 9305 3550 2007 19085 17990 1029 13434 6302 3475 1521 1056 2054 2009 3849 102 0 0 0 0 0 0 0 0 0 0 0 0 0 0 0 0 0 0 0 0 0 0 0 0 0 0 0 0 0 0 0 0 0 0 0 0 0 0 0 0 0 0 0 0 0 0 0 0 0 0 0 0 0 0 0 0 0 0 0 0 0 0 0 0 0 0 0 0 0 0 0 0 0 0 0 0 0 0 0 0 0 0 0 0 0 0 0 0 0 0 0 0 0 0 0 0 0 0 0 0 0 0 0 0 0\n"
     ]
    },
    {
     "name": "stderr",
     "output_type": "stream",
     "text": [
      "INFO:tensorflow:input_ids: 101 11829 19321 2072 2310 12541 2239 3158 9305 3550 2007 19085 17990 1029 13434 6302 3475 1521 1056 2054 2009 3849 102 0 0 0 0 0 0 0 0 0 0 0 0 0 0 0 0 0 0 0 0 0 0 0 0 0 0 0 0 0 0 0 0 0 0 0 0 0 0 0 0 0 0 0 0 0 0 0 0 0 0 0 0 0 0 0 0 0 0 0 0 0 0 0 0 0 0 0 0 0 0 0 0 0 0 0 0 0 0 0 0 0 0 0 0 0 0 0 0 0 0 0 0 0 0 0 0 0 0 0 0 0 0 0 0 0\n"
     ]
    },
    {
     "name": "stdout",
     "output_type": "stream",
     "text": [
      "INFO:tensorflow:input_mask: 1 1 1 1 1 1 1 1 1 1 1 1 1 1 1 1 1 1 1 1 1 1 1 0 0 0 0 0 0 0 0 0 0 0 0 0 0 0 0 0 0 0 0 0 0 0 0 0 0 0 0 0 0 0 0 0 0 0 0 0 0 0 0 0 0 0 0 0 0 0 0 0 0 0 0 0 0 0 0 0 0 0 0 0 0 0 0 0 0 0 0 0 0 0 0 0 0 0 0 0 0 0 0 0 0 0 0 0 0 0 0 0 0 0 0 0 0 0 0 0 0 0 0 0 0 0 0 0\n"
     ]
    },
    {
     "name": "stderr",
     "output_type": "stream",
     "text": [
      "INFO:tensorflow:input_mask: 1 1 1 1 1 1 1 1 1 1 1 1 1 1 1 1 1 1 1 1 1 1 1 0 0 0 0 0 0 0 0 0 0 0 0 0 0 0 0 0 0 0 0 0 0 0 0 0 0 0 0 0 0 0 0 0 0 0 0 0 0 0 0 0 0 0 0 0 0 0 0 0 0 0 0 0 0 0 0 0 0 0 0 0 0 0 0 0 0 0 0 0 0 0 0 0 0 0 0 0 0 0 0 0 0 0 0 0 0 0 0 0 0 0 0 0 0 0 0 0 0 0 0 0 0 0 0 0\n"
     ]
    },
    {
     "name": "stdout",
     "output_type": "stream",
     "text": [
      "INFO:tensorflow:segment_ids: 0 0 0 0 0 0 0 0 0 0 0 0 0 0 0 0 0 0 0 0 0 0 0 0 0 0 0 0 0 0 0 0 0 0 0 0 0 0 0 0 0 0 0 0 0 0 0 0 0 0 0 0 0 0 0 0 0 0 0 0 0 0 0 0 0 0 0 0 0 0 0 0 0 0 0 0 0 0 0 0 0 0 0 0 0 0 0 0 0 0 0 0 0 0 0 0 0 0 0 0 0 0 0 0 0 0 0 0 0 0 0 0 0 0 0 0 0 0 0 0 0 0 0 0 0 0 0 0\n"
     ]
    },
    {
     "name": "stderr",
     "output_type": "stream",
     "text": [
      "INFO:tensorflow:segment_ids: 0 0 0 0 0 0 0 0 0 0 0 0 0 0 0 0 0 0 0 0 0 0 0 0 0 0 0 0 0 0 0 0 0 0 0 0 0 0 0 0 0 0 0 0 0 0 0 0 0 0 0 0 0 0 0 0 0 0 0 0 0 0 0 0 0 0 0 0 0 0 0 0 0 0 0 0 0 0 0 0 0 0 0 0 0 0 0 0 0 0 0 0 0 0 0 0 0 0 0 0 0 0 0 0 0 0 0 0 0 0 0 0 0 0 0 0 0 0 0 0 0 0 0 0 0 0 0 0\n"
     ]
    },
    {
     "name": "stdout",
     "output_type": "stream",
     "text": [
      "INFO:tensorflow:label: 1 (id = 0)\n"
     ]
    },
    {
     "name": "stderr",
     "output_type": "stream",
     "text": [
      "INFO:tensorflow:label: 1 (id = 0)\n"
     ]
    },
    {
     "name": "stdout",
     "output_type": "stream",
     "text": [
      "INFO:tensorflow:*** Example ***\n"
     ]
    },
    {
     "name": "stderr",
     "output_type": "stream",
     "text": [
      "INFO:tensorflow:*** Example ***\n"
     ]
    },
    {
     "name": "stdout",
     "output_type": "stream",
     "text": [
      "INFO:tensorflow:guid: None\n"
     ]
    },
    {
     "name": "stderr",
     "output_type": "stream",
     "text": [
      "INFO:tensorflow:guid: None\n"
     ]
    },
    {
     "name": "stdout",
     "output_type": "stream",
     "text": [
      "INFO:tensorflow:tokens: [CLS] k ##fc marijuana sales to begin in colorado ? it ’ s unbelievable — literally [SEP]\n"
     ]
    },
    {
     "name": "stderr",
     "output_type": "stream",
     "text": [
      "INFO:tensorflow:tokens: [CLS] k ##fc marijuana sales to begin in colorado ? it ’ s unbelievable — literally [SEP]\n"
     ]
    },
    {
     "name": "stdout",
     "output_type": "stream",
     "text": [
      "INFO:tensorflow:input_ids: 101 1047 11329 16204 4341 2000 4088 1999 5169 1029 2009 1521 1055 23653 1517 6719 102 0 0 0 0 0 0 0 0 0 0 0 0 0 0 0 0 0 0 0 0 0 0 0 0 0 0 0 0 0 0 0 0 0 0 0 0 0 0 0 0 0 0 0 0 0 0 0 0 0 0 0 0 0 0 0 0 0 0 0 0 0 0 0 0 0 0 0 0 0 0 0 0 0 0 0 0 0 0 0 0 0 0 0 0 0 0 0 0 0 0 0 0 0 0 0 0 0 0 0 0 0 0 0 0 0 0 0 0 0 0 0\n"
     ]
    },
    {
     "name": "stderr",
     "output_type": "stream",
     "text": [
      "INFO:tensorflow:input_ids: 101 1047 11329 16204 4341 2000 4088 1999 5169 1029 2009 1521 1055 23653 1517 6719 102 0 0 0 0 0 0 0 0 0 0 0 0 0 0 0 0 0 0 0 0 0 0 0 0 0 0 0 0 0 0 0 0 0 0 0 0 0 0 0 0 0 0 0 0 0 0 0 0 0 0 0 0 0 0 0 0 0 0 0 0 0 0 0 0 0 0 0 0 0 0 0 0 0 0 0 0 0 0 0 0 0 0 0 0 0 0 0 0 0 0 0 0 0 0 0 0 0 0 0 0 0 0 0 0 0 0 0 0 0 0 0\n"
     ]
    },
    {
     "name": "stdout",
     "output_type": "stream",
     "text": [
      "INFO:tensorflow:input_mask: 1 1 1 1 1 1 1 1 1 1 1 1 1 1 1 1 1 0 0 0 0 0 0 0 0 0 0 0 0 0 0 0 0 0 0 0 0 0 0 0 0 0 0 0 0 0 0 0 0 0 0 0 0 0 0 0 0 0 0 0 0 0 0 0 0 0 0 0 0 0 0 0 0 0 0 0 0 0 0 0 0 0 0 0 0 0 0 0 0 0 0 0 0 0 0 0 0 0 0 0 0 0 0 0 0 0 0 0 0 0 0 0 0 0 0 0 0 0 0 0 0 0 0 0 0 0 0 0\n"
     ]
    },
    {
     "name": "stderr",
     "output_type": "stream",
     "text": [
      "INFO:tensorflow:input_mask: 1 1 1 1 1 1 1 1 1 1 1 1 1 1 1 1 1 0 0 0 0 0 0 0 0 0 0 0 0 0 0 0 0 0 0 0 0 0 0 0 0 0 0 0 0 0 0 0 0 0 0 0 0 0 0 0 0 0 0 0 0 0 0 0 0 0 0 0 0 0 0 0 0 0 0 0 0 0 0 0 0 0 0 0 0 0 0 0 0 0 0 0 0 0 0 0 0 0 0 0 0 0 0 0 0 0 0 0 0 0 0 0 0 0 0 0 0 0 0 0 0 0 0 0 0 0 0 0\n"
     ]
    },
    {
     "name": "stdout",
     "output_type": "stream",
     "text": [
      "INFO:tensorflow:segment_ids: 0 0 0 0 0 0 0 0 0 0 0 0 0 0 0 0 0 0 0 0 0 0 0 0 0 0 0 0 0 0 0 0 0 0 0 0 0 0 0 0 0 0 0 0 0 0 0 0 0 0 0 0 0 0 0 0 0 0 0 0 0 0 0 0 0 0 0 0 0 0 0 0 0 0 0 0 0 0 0 0 0 0 0 0 0 0 0 0 0 0 0 0 0 0 0 0 0 0 0 0 0 0 0 0 0 0 0 0 0 0 0 0 0 0 0 0 0 0 0 0 0 0 0 0 0 0 0 0\n"
     ]
    },
    {
     "name": "stderr",
     "output_type": "stream",
     "text": [
      "INFO:tensorflow:segment_ids: 0 0 0 0 0 0 0 0 0 0 0 0 0 0 0 0 0 0 0 0 0 0 0 0 0 0 0 0 0 0 0 0 0 0 0 0 0 0 0 0 0 0 0 0 0 0 0 0 0 0 0 0 0 0 0 0 0 0 0 0 0 0 0 0 0 0 0 0 0 0 0 0 0 0 0 0 0 0 0 0 0 0 0 0 0 0 0 0 0 0 0 0 0 0 0 0 0 0 0 0 0 0 0 0 0 0 0 0 0 0 0 0 0 0 0 0 0 0 0 0 0 0 0 0 0 0 0 0\n"
     ]
    },
    {
     "name": "stdout",
     "output_type": "stream",
     "text": [
      "INFO:tensorflow:label: 0 (id = 1)\n"
     ]
    },
    {
     "name": "stderr",
     "output_type": "stream",
     "text": [
      "INFO:tensorflow:label: 0 (id = 1)\n"
     ]
    },
    {
     "name": "stdout",
     "output_type": "stream",
     "text": [
      "INFO:tensorflow:*** Example ***\n"
     ]
    },
    {
     "name": "stderr",
     "output_type": "stream",
     "text": [
      "INFO:tensorflow:*** Example ***\n"
     ]
    },
    {
     "name": "stdout",
     "output_type": "stream",
     "text": [
      "INFO:tensorflow:guid: None\n"
     ]
    },
    {
     "name": "stderr",
     "output_type": "stream",
     "text": [
      "INFO:tensorflow:guid: None\n"
     ]
    },
    {
     "name": "stdout",
     "output_type": "stream",
     "text": [
      "INFO:tensorflow:tokens: [CLS] teen made $ 72 million trading stocks , confirms teen dominance worldwide [SEP]\n"
     ]
    },
    {
     "name": "stderr",
     "output_type": "stream",
     "text": [
      "INFO:tensorflow:tokens: [CLS] teen made $ 72 million trading stocks , confirms teen dominance worldwide [SEP]\n"
     ]
    },
    {
     "name": "stdout",
     "output_type": "stream",
     "text": [
      "INFO:tensorflow:input_ids: 101 9458 2081 1002 5824 2454 6202 15768 1010 23283 9458 13811 4969 102 0 0 0 0 0 0 0 0 0 0 0 0 0 0 0 0 0 0 0 0 0 0 0 0 0 0 0 0 0 0 0 0 0 0 0 0 0 0 0 0 0 0 0 0 0 0 0 0 0 0 0 0 0 0 0 0 0 0 0 0 0 0 0 0 0 0 0 0 0 0 0 0 0 0 0 0 0 0 0 0 0 0 0 0 0 0 0 0 0 0 0 0 0 0 0 0 0 0 0 0 0 0 0 0 0 0 0 0 0 0 0 0 0 0\n"
     ]
    },
    {
     "name": "stderr",
     "output_type": "stream",
     "text": [
      "INFO:tensorflow:input_ids: 101 9458 2081 1002 5824 2454 6202 15768 1010 23283 9458 13811 4969 102 0 0 0 0 0 0 0 0 0 0 0 0 0 0 0 0 0 0 0 0 0 0 0 0 0 0 0 0 0 0 0 0 0 0 0 0 0 0 0 0 0 0 0 0 0 0 0 0 0 0 0 0 0 0 0 0 0 0 0 0 0 0 0 0 0 0 0 0 0 0 0 0 0 0 0 0 0 0 0 0 0 0 0 0 0 0 0 0 0 0 0 0 0 0 0 0 0 0 0 0 0 0 0 0 0 0 0 0 0 0 0 0 0 0\n"
     ]
    },
    {
     "name": "stdout",
     "output_type": "stream",
     "text": [
      "INFO:tensorflow:input_mask: 1 1 1 1 1 1 1 1 1 1 1 1 1 1 0 0 0 0 0 0 0 0 0 0 0 0 0 0 0 0 0 0 0 0 0 0 0 0 0 0 0 0 0 0 0 0 0 0 0 0 0 0 0 0 0 0 0 0 0 0 0 0 0 0 0 0 0 0 0 0 0 0 0 0 0 0 0 0 0 0 0 0 0 0 0 0 0 0 0 0 0 0 0 0 0 0 0 0 0 0 0 0 0 0 0 0 0 0 0 0 0 0 0 0 0 0 0 0 0 0 0 0 0 0 0 0 0 0\n"
     ]
    },
    {
     "name": "stderr",
     "output_type": "stream",
     "text": [
      "INFO:tensorflow:input_mask: 1 1 1 1 1 1 1 1 1 1 1 1 1 1 0 0 0 0 0 0 0 0 0 0 0 0 0 0 0 0 0 0 0 0 0 0 0 0 0 0 0 0 0 0 0 0 0 0 0 0 0 0 0 0 0 0 0 0 0 0 0 0 0 0 0 0 0 0 0 0 0 0 0 0 0 0 0 0 0 0 0 0 0 0 0 0 0 0 0 0 0 0 0 0 0 0 0 0 0 0 0 0 0 0 0 0 0 0 0 0 0 0 0 0 0 0 0 0 0 0 0 0 0 0 0 0 0 0\n"
     ]
    },
    {
     "name": "stdout",
     "output_type": "stream",
     "text": [
      "INFO:tensorflow:segment_ids: 0 0 0 0 0 0 0 0 0 0 0 0 0 0 0 0 0 0 0 0 0 0 0 0 0 0 0 0 0 0 0 0 0 0 0 0 0 0 0 0 0 0 0 0 0 0 0 0 0 0 0 0 0 0 0 0 0 0 0 0 0 0 0 0 0 0 0 0 0 0 0 0 0 0 0 0 0 0 0 0 0 0 0 0 0 0 0 0 0 0 0 0 0 0 0 0 0 0 0 0 0 0 0 0 0 0 0 0 0 0 0 0 0 0 0 0 0 0 0 0 0 0 0 0 0 0 0 0\n"
     ]
    },
    {
     "name": "stderr",
     "output_type": "stream",
     "text": [
      "INFO:tensorflow:segment_ids: 0 0 0 0 0 0 0 0 0 0 0 0 0 0 0 0 0 0 0 0 0 0 0 0 0 0 0 0 0 0 0 0 0 0 0 0 0 0 0 0 0 0 0 0 0 0 0 0 0 0 0 0 0 0 0 0 0 0 0 0 0 0 0 0 0 0 0 0 0 0 0 0 0 0 0 0 0 0 0 0 0 0 0 0 0 0 0 0 0 0 0 0 0 0 0 0 0 0 0 0 0 0 0 0 0 0 0 0 0 0 0 0 0 0 0 0 0 0 0 0 0 0 0 0 0 0 0 0\n"
     ]
    },
    {
     "name": "stdout",
     "output_type": "stream",
     "text": [
      "INFO:tensorflow:label: 1 (id = 0)\n"
     ]
    },
    {
     "name": "stderr",
     "output_type": "stream",
     "text": [
      "INFO:tensorflow:label: 1 (id = 0)\n"
     ]
    },
    {
     "name": "stdout",
     "output_type": "stream",
     "text": [
      "INFO:tensorflow:Writing example 0 of 20\n"
     ]
    },
    {
     "name": "stderr",
     "output_type": "stream",
     "text": [
      "INFO:tensorflow:Writing example 0 of 20\n"
     ]
    },
    {
     "name": "stdout",
     "output_type": "stream",
     "text": [
      "INFO:tensorflow:*** Example ***\n"
     ]
    },
    {
     "name": "stderr",
     "output_type": "stream",
     "text": [
      "INFO:tensorflow:*** Example ***\n"
     ]
    },
    {
     "name": "stdout",
     "output_type": "stream",
     "text": [
      "INFO:tensorflow:guid: None\n"
     ]
    },
    {
     "name": "stderr",
     "output_type": "stream",
     "text": [
      "INFO:tensorflow:guid: None\n"
     ]
    },
    {
     "name": "stdout",
     "output_type": "stream",
     "text": [
      "INFO:tensorflow:tokens: [CLS] top ##eka , kan . ( wi ##b ##w ) - a kansas city patient is not being treated for e ##bola after being rushed to a kansas city hospital saturday . the man ' s kansas city apartment building was sealed off when the man became seriously ill . he was rushed to research medical center when all or part of the medical facility was qu ##aran ##tine ##d . it is unknown what the man is suffering from or if anyone else is sick . hc ##a midwest assistant vice - president chris ham ##ele tells kc ##tv that research medical has standard infectious disease precautions and are well prepared to implement them as necessary . [SEP]\n"
     ]
    },
    {
     "name": "stderr",
     "output_type": "stream",
     "text": [
      "INFO:tensorflow:tokens: [CLS] top ##eka , kan . ( wi ##b ##w ) - a kansas city patient is not being treated for e ##bola after being rushed to a kansas city hospital saturday . the man ' s kansas city apartment building was sealed off when the man became seriously ill . he was rushed to research medical center when all or part of the medical facility was qu ##aran ##tine ##d . it is unknown what the man is suffering from or if anyone else is sick . hc ##a midwest assistant vice - president chris ham ##ele tells kc ##tv that research medical has standard infectious disease precautions and are well prepared to implement them as necessary . [SEP]\n"
     ]
    },
    {
     "name": "stdout",
     "output_type": "stream",
     "text": [
      "INFO:tensorflow:input_ids: 101 2327 19025 1010 22827 1012 1006 15536 2497 2860 1007 1011 1037 5111 2103 5776 2003 2025 2108 5845 2005 1041 24290 2044 2108 6760 2000 1037 5111 2103 2902 5095 1012 1996 2158 1005 1055 5111 2103 4545 2311 2001 10203 2125 2043 1996 2158 2150 5667 5665 1012 2002 2001 6760 2000 2470 2966 2415 2043 2035 2030 2112 1997 1996 2966 4322 2001 24209 20486 10196 2094 1012 2009 2003 4242 2054 1996 2158 2003 6114 2013 2030 2065 3087 2842 2003 5305 1012 16731 2050 13608 3353 3580 1011 2343 3782 10654 12260 4136 21117 9189 2008 2470 2966 2038 3115 16514 4295 29361 1998 2024 2092 4810 2000 10408 2068 2004 4072 1012 102 0 0 0 0 0 0 0 0\n"
     ]
    },
    {
     "name": "stderr",
     "output_type": "stream",
     "text": [
      "INFO:tensorflow:input_ids: 101 2327 19025 1010 22827 1012 1006 15536 2497 2860 1007 1011 1037 5111 2103 5776 2003 2025 2108 5845 2005 1041 24290 2044 2108 6760 2000 1037 5111 2103 2902 5095 1012 1996 2158 1005 1055 5111 2103 4545 2311 2001 10203 2125 2043 1996 2158 2150 5667 5665 1012 2002 2001 6760 2000 2470 2966 2415 2043 2035 2030 2112 1997 1996 2966 4322 2001 24209 20486 10196 2094 1012 2009 2003 4242 2054 1996 2158 2003 6114 2013 2030 2065 3087 2842 2003 5305 1012 16731 2050 13608 3353 3580 1011 2343 3782 10654 12260 4136 21117 9189 2008 2470 2966 2038 3115 16514 4295 29361 1998 2024 2092 4810 2000 10408 2068 2004 4072 1012 102 0 0 0 0 0 0 0 0\n"
     ]
    },
    {
     "name": "stdout",
     "output_type": "stream",
     "text": [
      "INFO:tensorflow:input_mask: 1 1 1 1 1 1 1 1 1 1 1 1 1 1 1 1 1 1 1 1 1 1 1 1 1 1 1 1 1 1 1 1 1 1 1 1 1 1 1 1 1 1 1 1 1 1 1 1 1 1 1 1 1 1 1 1 1 1 1 1 1 1 1 1 1 1 1 1 1 1 1 1 1 1 1 1 1 1 1 1 1 1 1 1 1 1 1 1 1 1 1 1 1 1 1 1 1 1 1 1 1 1 1 1 1 1 1 1 1 1 1 1 1 1 1 1 1 1 1 1 0 0 0 0 0 0 0 0\n"
     ]
    },
    {
     "name": "stderr",
     "output_type": "stream",
     "text": [
      "INFO:tensorflow:input_mask: 1 1 1 1 1 1 1 1 1 1 1 1 1 1 1 1 1 1 1 1 1 1 1 1 1 1 1 1 1 1 1 1 1 1 1 1 1 1 1 1 1 1 1 1 1 1 1 1 1 1 1 1 1 1 1 1 1 1 1 1 1 1 1 1 1 1 1 1 1 1 1 1 1 1 1 1 1 1 1 1 1 1 1 1 1 1 1 1 1 1 1 1 1 1 1 1 1 1 1 1 1 1 1 1 1 1 1 1 1 1 1 1 1 1 1 1 1 1 1 1 0 0 0 0 0 0 0 0\n"
     ]
    },
    {
     "name": "stdout",
     "output_type": "stream",
     "text": [
      "INFO:tensorflow:segment_ids: 0 0 0 0 0 0 0 0 0 0 0 0 0 0 0 0 0 0 0 0 0 0 0 0 0 0 0 0 0 0 0 0 0 0 0 0 0 0 0 0 0 0 0 0 0 0 0 0 0 0 0 0 0 0 0 0 0 0 0 0 0 0 0 0 0 0 0 0 0 0 0 0 0 0 0 0 0 0 0 0 0 0 0 0 0 0 0 0 0 0 0 0 0 0 0 0 0 0 0 0 0 0 0 0 0 0 0 0 0 0 0 0 0 0 0 0 0 0 0 0 0 0 0 0 0 0 0 0\n"
     ]
    },
    {
     "name": "stderr",
     "output_type": "stream",
     "text": [
      "INFO:tensorflow:segment_ids: 0 0 0 0 0 0 0 0 0 0 0 0 0 0 0 0 0 0 0 0 0 0 0 0 0 0 0 0 0 0 0 0 0 0 0 0 0 0 0 0 0 0 0 0 0 0 0 0 0 0 0 0 0 0 0 0 0 0 0 0 0 0 0 0 0 0 0 0 0 0 0 0 0 0 0 0 0 0 0 0 0 0 0 0 0 0 0 0 0 0 0 0 0 0 0 0 0 0 0 0 0 0 0 0 0 0 0 0 0 0 0 0 0 0 0 0 0 0 0 0 0 0 0 0 0 0 0 0\n"
     ]
    },
    {
     "name": "stdout",
     "output_type": "stream",
     "text": [
      "INFO:tensorflow:label: 1 (id = 0)\n"
     ]
    },
    {
     "name": "stderr",
     "output_type": "stream",
     "text": [
      "INFO:tensorflow:label: 1 (id = 0)\n"
     ]
    },
    {
     "name": "stdout",
     "output_type": "stream",
     "text": [
      "INFO:tensorflow:*** Example ***\n"
     ]
    },
    {
     "name": "stderr",
     "output_type": "stream",
     "text": [
      "INFO:tensorflow:*** Example ***\n"
     ]
    },
    {
     "name": "stdout",
     "output_type": "stream",
     "text": [
      "INFO:tensorflow:guid: None\n"
     ]
    },
    {
     "name": "stderr",
     "output_type": "stream",
     "text": [
      "INFO:tensorflow:guid: None\n"
     ]
    },
    {
     "name": "stdout",
     "output_type": "stream",
     "text": [
      "INFO:tensorflow:tokens: [CLS] macau ##lay cu ##lk ##in is not dead . a “ breaking news ” story claiming , “ macau ##lay cu ##lk ##in found dead at age 34 ″ is a 100 percent fake hoax that ’ s gone viral on facebook and twitter . it is not true . the rumor has been fueled by what looks like a screens ##hot from a cable news broadcast with the graphic , “ breaking : macau ##lay cu ##lk ##in found dead at age 34 ″ ( see below ) , which has been shared more than 700 , 000 times on facebook . additionally , at least one version of the “ dead ” story appears on a ms ##nbc . website ur ##l meant to [SEP]\n"
     ]
    },
    {
     "name": "stderr",
     "output_type": "stream",
     "text": [
      "INFO:tensorflow:tokens: [CLS] macau ##lay cu ##lk ##in is not dead . a “ breaking news ” story claiming , “ macau ##lay cu ##lk ##in found dead at age 34 ″ is a 100 percent fake hoax that ’ s gone viral on facebook and twitter . it is not true . the rumor has been fueled by what looks like a screens ##hot from a cable news broadcast with the graphic , “ breaking : macau ##lay cu ##lk ##in found dead at age 34 ″ ( see below ) , which has been shared more than 700 , 000 times on facebook . additionally , at least one version of the “ dead ” story appears on a ms ##nbc . website ur ##l meant to [SEP]\n"
     ]
    },
    {
     "name": "stdout",
     "output_type": "stream",
     "text": [
      "INFO:tensorflow:input_ids: 101 16878 8485 12731 13687 2378 2003 2025 2757 1012 1037 1523 4911 2739 1524 2466 6815 1010 1523 16878 8485 12731 13687 2378 2179 2757 2012 2287 4090 1532 2003 1037 2531 3867 8275 28520 2008 1521 1055 2908 13434 2006 9130 1998 10474 1012 2009 2003 2025 2995 1012 1996 19075 2038 2042 17999 2011 2054 3504 2066 1037 12117 12326 2013 1037 5830 2739 3743 2007 1996 8425 1010 1523 4911 1024 16878 8485 12731 13687 2378 2179 2757 2012 2287 4090 1532 1006 2156 2917 1007 1010 2029 2038 2042 4207 2062 2084 6352 1010 2199 2335 2006 9130 1012 5678 1010 2012 2560 2028 2544 1997 1996 1523 2757 1524 2466 3544 2006 1037 5796 28957 1012 4037 24471 2140 3214 2000 102\n"
     ]
    },
    {
     "name": "stderr",
     "output_type": "stream",
     "text": [
      "INFO:tensorflow:input_ids: 101 16878 8485 12731 13687 2378 2003 2025 2757 1012 1037 1523 4911 2739 1524 2466 6815 1010 1523 16878 8485 12731 13687 2378 2179 2757 2012 2287 4090 1532 2003 1037 2531 3867 8275 28520 2008 1521 1055 2908 13434 2006 9130 1998 10474 1012 2009 2003 2025 2995 1012 1996 19075 2038 2042 17999 2011 2054 3504 2066 1037 12117 12326 2013 1037 5830 2739 3743 2007 1996 8425 1010 1523 4911 1024 16878 8485 12731 13687 2378 2179 2757 2012 2287 4090 1532 1006 2156 2917 1007 1010 2029 2038 2042 4207 2062 2084 6352 1010 2199 2335 2006 9130 1012 5678 1010 2012 2560 2028 2544 1997 1996 1523 2757 1524 2466 3544 2006 1037 5796 28957 1012 4037 24471 2140 3214 2000 102\n"
     ]
    },
    {
     "name": "stdout",
     "output_type": "stream",
     "text": [
      "INFO:tensorflow:input_mask: 1 1 1 1 1 1 1 1 1 1 1 1 1 1 1 1 1 1 1 1 1 1 1 1 1 1 1 1 1 1 1 1 1 1 1 1 1 1 1 1 1 1 1 1 1 1 1 1 1 1 1 1 1 1 1 1 1 1 1 1 1 1 1 1 1 1 1 1 1 1 1 1 1 1 1 1 1 1 1 1 1 1 1 1 1 1 1 1 1 1 1 1 1 1 1 1 1 1 1 1 1 1 1 1 1 1 1 1 1 1 1 1 1 1 1 1 1 1 1 1 1 1 1 1 1 1 1 1\n"
     ]
    },
    {
     "name": "stderr",
     "output_type": "stream",
     "text": [
      "INFO:tensorflow:input_mask: 1 1 1 1 1 1 1 1 1 1 1 1 1 1 1 1 1 1 1 1 1 1 1 1 1 1 1 1 1 1 1 1 1 1 1 1 1 1 1 1 1 1 1 1 1 1 1 1 1 1 1 1 1 1 1 1 1 1 1 1 1 1 1 1 1 1 1 1 1 1 1 1 1 1 1 1 1 1 1 1 1 1 1 1 1 1 1 1 1 1 1 1 1 1 1 1 1 1 1 1 1 1 1 1 1 1 1 1 1 1 1 1 1 1 1 1 1 1 1 1 1 1 1 1 1 1 1 1\n"
     ]
    },
    {
     "name": "stdout",
     "output_type": "stream",
     "text": [
      "INFO:tensorflow:segment_ids: 0 0 0 0 0 0 0 0 0 0 0 0 0 0 0 0 0 0 0 0 0 0 0 0 0 0 0 0 0 0 0 0 0 0 0 0 0 0 0 0 0 0 0 0 0 0 0 0 0 0 0 0 0 0 0 0 0 0 0 0 0 0 0 0 0 0 0 0 0 0 0 0 0 0 0 0 0 0 0 0 0 0 0 0 0 0 0 0 0 0 0 0 0 0 0 0 0 0 0 0 0 0 0 0 0 0 0 0 0 0 0 0 0 0 0 0 0 0 0 0 0 0 0 0 0 0 0 0\n"
     ]
    },
    {
     "name": "stderr",
     "output_type": "stream",
     "text": [
      "INFO:tensorflow:segment_ids: 0 0 0 0 0 0 0 0 0 0 0 0 0 0 0 0 0 0 0 0 0 0 0 0 0 0 0 0 0 0 0 0 0 0 0 0 0 0 0 0 0 0 0 0 0 0 0 0 0 0 0 0 0 0 0 0 0 0 0 0 0 0 0 0 0 0 0 0 0 0 0 0 0 0 0 0 0 0 0 0 0 0 0 0 0 0 0 0 0 0 0 0 0 0 0 0 0 0 0 0 0 0 0 0 0 0 0 0 0 0 0 0 0 0 0 0 0 0 0 0 0 0 0 0 0 0 0 0\n"
     ]
    },
    {
     "name": "stdout",
     "output_type": "stream",
     "text": [
      "INFO:tensorflow:label: 1 (id = 0)\n"
     ]
    },
    {
     "name": "stderr",
     "output_type": "stream",
     "text": [
      "INFO:tensorflow:label: 1 (id = 0)\n"
     ]
    },
    {
     "name": "stdout",
     "output_type": "stream",
     "text": [
      "INFO:tensorflow:*** Example ***\n"
     ]
    },
    {
     "name": "stderr",
     "output_type": "stream",
     "text": [
      "INFO:tensorflow:*** Example ***\n"
     ]
    },
    {
     "name": "stdout",
     "output_type": "stream",
     "text": [
      "INFO:tensorflow:guid: None\n"
     ]
    },
    {
     "name": "stderr",
     "output_type": "stream",
     "text": [
      "INFO:tensorflow:guid: None\n"
     ]
    },
    {
     "name": "stdout",
     "output_type": "stream",
     "text": [
      "INFO:tensorflow:tokens: [CLS] this picture of a penis spray ##pa ##int ##ed on a £1 . 5 million bug ##att ##i ve ##yr ##on is being shared like crazy this week . look – it ’ s a penis on a really expensive car ! ! ! according to this red ##dit post four days ago , the image was taken in downtown seattle . [ insert outrage / un ##con ##tro ##lla ##ble glee here ] the thing is , the graffiti appears to be the work of youtube prank ##sters twin ##z ##tv . here ’ s ins ##tagram user andrey ##sm ##y ##go ##v revealing that the spray ##pa ##int was for an upcoming video . and here ’ s the car with different graffiti on [SEP]\n"
     ]
    },
    {
     "name": "stderr",
     "output_type": "stream",
     "text": [
      "INFO:tensorflow:tokens: [CLS] this picture of a penis spray ##pa ##int ##ed on a £1 . 5 million bug ##att ##i ve ##yr ##on is being shared like crazy this week . look – it ’ s a penis on a really expensive car ! ! ! according to this red ##dit post four days ago , the image was taken in downtown seattle . [ insert outrage / un ##con ##tro ##lla ##ble glee here ] the thing is , the graffiti appears to be the work of youtube prank ##sters twin ##z ##tv . here ’ s ins ##tagram user andrey ##sm ##y ##go ##v revealing that the spray ##pa ##int was for an upcoming video . and here ’ s the car with different graffiti on [SEP]\n"
     ]
    },
    {
     "name": "stdout",
     "output_type": "stream",
     "text": [
      "INFO:tensorflow:input_ids: 101 2023 3861 1997 1037 19085 12509 4502 18447 2098 2006 1037 14534 1012 1019 2454 11829 19321 2072 2310 12541 2239 2003 2108 4207 2066 4689 2023 2733 1012 2298 1516 2009 1521 1055 1037 19085 2006 1037 2428 6450 2482 999 999 999 2429 2000 2023 2417 23194 2695 2176 2420 3283 1010 1996 3746 2001 2579 1999 5116 5862 1012 1031 19274 19006 1013 4895 8663 13181 4571 3468 18874 2182 1033 1996 2518 2003 1010 1996 17990 3544 2000 2022 1996 2147 1997 7858 26418 15608 5519 2480 9189 1012 2182 1521 1055 16021 23091 5310 29219 6491 2100 3995 2615 8669 2008 1996 12509 4502 18447 2001 2005 2019 9046 2678 1012 1998 2182 1521 1055 1996 2482 2007 2367 17990 2006 102\n"
     ]
    },
    {
     "name": "stderr",
     "output_type": "stream",
     "text": [
      "INFO:tensorflow:input_ids: 101 2023 3861 1997 1037 19085 12509 4502 18447 2098 2006 1037 14534 1012 1019 2454 11829 19321 2072 2310 12541 2239 2003 2108 4207 2066 4689 2023 2733 1012 2298 1516 2009 1521 1055 1037 19085 2006 1037 2428 6450 2482 999 999 999 2429 2000 2023 2417 23194 2695 2176 2420 3283 1010 1996 3746 2001 2579 1999 5116 5862 1012 1031 19274 19006 1013 4895 8663 13181 4571 3468 18874 2182 1033 1996 2518 2003 1010 1996 17990 3544 2000 2022 1996 2147 1997 7858 26418 15608 5519 2480 9189 1012 2182 1521 1055 16021 23091 5310 29219 6491 2100 3995 2615 8669 2008 1996 12509 4502 18447 2001 2005 2019 9046 2678 1012 1998 2182 1521 1055 1996 2482 2007 2367 17990 2006 102\n"
     ]
    },
    {
     "name": "stdout",
     "output_type": "stream",
     "text": [
      "INFO:tensorflow:input_mask: 1 1 1 1 1 1 1 1 1 1 1 1 1 1 1 1 1 1 1 1 1 1 1 1 1 1 1 1 1 1 1 1 1 1 1 1 1 1 1 1 1 1 1 1 1 1 1 1 1 1 1 1 1 1 1 1 1 1 1 1 1 1 1 1 1 1 1 1 1 1 1 1 1 1 1 1 1 1 1 1 1 1 1 1 1 1 1 1 1 1 1 1 1 1 1 1 1 1 1 1 1 1 1 1 1 1 1 1 1 1 1 1 1 1 1 1 1 1 1 1 1 1 1 1 1 1 1 1\n"
     ]
    },
    {
     "name": "stderr",
     "output_type": "stream",
     "text": [
      "INFO:tensorflow:input_mask: 1 1 1 1 1 1 1 1 1 1 1 1 1 1 1 1 1 1 1 1 1 1 1 1 1 1 1 1 1 1 1 1 1 1 1 1 1 1 1 1 1 1 1 1 1 1 1 1 1 1 1 1 1 1 1 1 1 1 1 1 1 1 1 1 1 1 1 1 1 1 1 1 1 1 1 1 1 1 1 1 1 1 1 1 1 1 1 1 1 1 1 1 1 1 1 1 1 1 1 1 1 1 1 1 1 1 1 1 1 1 1 1 1 1 1 1 1 1 1 1 1 1 1 1 1 1 1 1\n"
     ]
    },
    {
     "name": "stdout",
     "output_type": "stream",
     "text": [
      "INFO:tensorflow:segment_ids: 0 0 0 0 0 0 0 0 0 0 0 0 0 0 0 0 0 0 0 0 0 0 0 0 0 0 0 0 0 0 0 0 0 0 0 0 0 0 0 0 0 0 0 0 0 0 0 0 0 0 0 0 0 0 0 0 0 0 0 0 0 0 0 0 0 0 0 0 0 0 0 0 0 0 0 0 0 0 0 0 0 0 0 0 0 0 0 0 0 0 0 0 0 0 0 0 0 0 0 0 0 0 0 0 0 0 0 0 0 0 0 0 0 0 0 0 0 0 0 0 0 0 0 0 0 0 0 0\n"
     ]
    },
    {
     "name": "stderr",
     "output_type": "stream",
     "text": [
      "INFO:tensorflow:segment_ids: 0 0 0 0 0 0 0 0 0 0 0 0 0 0 0 0 0 0 0 0 0 0 0 0 0 0 0 0 0 0 0 0 0 0 0 0 0 0 0 0 0 0 0 0 0 0 0 0 0 0 0 0 0 0 0 0 0 0 0 0 0 0 0 0 0 0 0 0 0 0 0 0 0 0 0 0 0 0 0 0 0 0 0 0 0 0 0 0 0 0 0 0 0 0 0 0 0 0 0 0 0 0 0 0 0 0 0 0 0 0 0 0 0 0 0 0 0 0 0 0 0 0 0 0 0 0 0 0\n"
     ]
    },
    {
     "name": "stdout",
     "output_type": "stream",
     "text": [
      "INFO:tensorflow:label: 1 (id = 0)\n"
     ]
    },
    {
     "name": "stderr",
     "output_type": "stream",
     "text": [
      "INFO:tensorflow:label: 1 (id = 0)\n"
     ]
    },
    {
     "name": "stdout",
     "output_type": "stream",
     "text": [
      "INFO:tensorflow:*** Example ***\n"
     ]
    },
    {
     "name": "stderr",
     "output_type": "stream",
     "text": [
      "INFO:tensorflow:*** Example ***\n"
     ]
    },
    {
     "name": "stdout",
     "output_type": "stream",
     "text": [
      "INFO:tensorflow:guid: None\n"
     ]
    },
    {
     "name": "stderr",
     "output_type": "stream",
     "text": [
      "INFO:tensorflow:guid: None\n"
     ]
    },
    {
     "name": "stdout",
     "output_type": "stream",
     "text": [
      "INFO:tensorflow:tokens: [CLS] k ##fc ( ny ##se : yu ##m ) gets occupational business license to sell marijuana in colorado restaurants . in the state of colorado , cannabis clinics are big industry – earning some retailers nearly $ 1 million per year . those numbers made an impact on the k ##fc corporation , they made the decision to include a pot di ##sp ##ens ##ary to be a part of their colorado franchise restaurants . franchise ##es have the chance to build a foundation into the business for an additional $ 35 , 000 setup fee . the k ##fc corporation was able to get approval on february 3 , 2015 for their cannabis retail recreational marijuana / medical cannabis occupational business license . so far [SEP]\n"
     ]
    },
    {
     "name": "stderr",
     "output_type": "stream",
     "text": [
      "INFO:tensorflow:tokens: [CLS] k ##fc ( ny ##se : yu ##m ) gets occupational business license to sell marijuana in colorado restaurants . in the state of colorado , cannabis clinics are big industry – earning some retailers nearly $ 1 million per year . those numbers made an impact on the k ##fc corporation , they made the decision to include a pot di ##sp ##ens ##ary to be a part of their colorado franchise restaurants . franchise ##es have the chance to build a foundation into the business for an additional $ 35 , 000 setup fee . the k ##fc corporation was able to get approval on february 3 , 2015 for their cannabis retail recreational marijuana / medical cannabis occupational business license . so far [SEP]\n"
     ]
    },
    {
     "name": "stdout",
     "output_type": "stream",
     "text": [
      "INFO:tensorflow:input_ids: 101 1047 11329 1006 6396 3366 1024 9805 2213 1007 4152 16928 2449 6105 2000 5271 16204 1999 5169 7884 1012 1999 1996 2110 1997 5169 1010 17985 17865 2024 2502 3068 1516 7414 2070 16629 3053 1002 1015 2454 2566 2095 1012 2216 3616 2081 2019 4254 2006 1996 1047 11329 3840 1010 2027 2081 1996 3247 2000 2421 1037 8962 4487 13102 6132 5649 2000 2022 1037 2112 1997 2037 5169 6329 7884 1012 6329 2229 2031 1996 3382 2000 3857 1037 3192 2046 1996 2449 2005 2019 3176 1002 3486 1010 2199 16437 7408 1012 1996 1047 11329 3840 2001 2583 2000 2131 6226 2006 2337 1017 1010 2325 2005 2037 17985 7027 10517 16204 1013 2966 17985 16928 2449 6105 1012 2061 2521 102\n"
     ]
    },
    {
     "name": "stderr",
     "output_type": "stream",
     "text": [
      "INFO:tensorflow:input_ids: 101 1047 11329 1006 6396 3366 1024 9805 2213 1007 4152 16928 2449 6105 2000 5271 16204 1999 5169 7884 1012 1999 1996 2110 1997 5169 1010 17985 17865 2024 2502 3068 1516 7414 2070 16629 3053 1002 1015 2454 2566 2095 1012 2216 3616 2081 2019 4254 2006 1996 1047 11329 3840 1010 2027 2081 1996 3247 2000 2421 1037 8962 4487 13102 6132 5649 2000 2022 1037 2112 1997 2037 5169 6329 7884 1012 6329 2229 2031 1996 3382 2000 3857 1037 3192 2046 1996 2449 2005 2019 3176 1002 3486 1010 2199 16437 7408 1012 1996 1047 11329 3840 2001 2583 2000 2131 6226 2006 2337 1017 1010 2325 2005 2037 17985 7027 10517 16204 1013 2966 17985 16928 2449 6105 1012 2061 2521 102\n"
     ]
    },
    {
     "name": "stdout",
     "output_type": "stream",
     "text": [
      "INFO:tensorflow:input_mask: 1 1 1 1 1 1 1 1 1 1 1 1 1 1 1 1 1 1 1 1 1 1 1 1 1 1 1 1 1 1 1 1 1 1 1 1 1 1 1 1 1 1 1 1 1 1 1 1 1 1 1 1 1 1 1 1 1 1 1 1 1 1 1 1 1 1 1 1 1 1 1 1 1 1 1 1 1 1 1 1 1 1 1 1 1 1 1 1 1 1 1 1 1 1 1 1 1 1 1 1 1 1 1 1 1 1 1 1 1 1 1 1 1 1 1 1 1 1 1 1 1 1 1 1 1 1 1 1\n"
     ]
    },
    {
     "name": "stderr",
     "output_type": "stream",
     "text": [
      "INFO:tensorflow:input_mask: 1 1 1 1 1 1 1 1 1 1 1 1 1 1 1 1 1 1 1 1 1 1 1 1 1 1 1 1 1 1 1 1 1 1 1 1 1 1 1 1 1 1 1 1 1 1 1 1 1 1 1 1 1 1 1 1 1 1 1 1 1 1 1 1 1 1 1 1 1 1 1 1 1 1 1 1 1 1 1 1 1 1 1 1 1 1 1 1 1 1 1 1 1 1 1 1 1 1 1 1 1 1 1 1 1 1 1 1 1 1 1 1 1 1 1 1 1 1 1 1 1 1 1 1 1 1 1 1\n"
     ]
    },
    {
     "name": "stdout",
     "output_type": "stream",
     "text": [
      "INFO:tensorflow:segment_ids: 0 0 0 0 0 0 0 0 0 0 0 0 0 0 0 0 0 0 0 0 0 0 0 0 0 0 0 0 0 0 0 0 0 0 0 0 0 0 0 0 0 0 0 0 0 0 0 0 0 0 0 0 0 0 0 0 0 0 0 0 0 0 0 0 0 0 0 0 0 0 0 0 0 0 0 0 0 0 0 0 0 0 0 0 0 0 0 0 0 0 0 0 0 0 0 0 0 0 0 0 0 0 0 0 0 0 0 0 0 0 0 0 0 0 0 0 0 0 0 0 0 0 0 0 0 0 0 0\n"
     ]
    },
    {
     "name": "stderr",
     "output_type": "stream",
     "text": [
      "INFO:tensorflow:segment_ids: 0 0 0 0 0 0 0 0 0 0 0 0 0 0 0 0 0 0 0 0 0 0 0 0 0 0 0 0 0 0 0 0 0 0 0 0 0 0 0 0 0 0 0 0 0 0 0 0 0 0 0 0 0 0 0 0 0 0 0 0 0 0 0 0 0 0 0 0 0 0 0 0 0 0 0 0 0 0 0 0 0 0 0 0 0 0 0 0 0 0 0 0 0 0 0 0 0 0 0 0 0 0 0 0 0 0 0 0 0 0 0 0 0 0 0 0 0 0 0 0 0 0 0 0 0 0 0 0\n"
     ]
    },
    {
     "name": "stdout",
     "output_type": "stream",
     "text": [
      "INFO:tensorflow:label: 0 (id = 1)\n"
     ]
    },
    {
     "name": "stderr",
     "output_type": "stream",
     "text": [
      "INFO:tensorflow:label: 0 (id = 1)\n"
     ]
    },
    {
     "name": "stdout",
     "output_type": "stream",
     "text": [
      "INFO:tensorflow:*** Example ***\n"
     ]
    },
    {
     "name": "stderr",
     "output_type": "stream",
     "text": [
      "INFO:tensorflow:*** Example ***\n"
     ]
    },
    {
     "name": "stdout",
     "output_type": "stream",
     "text": [
      "INFO:tensorflow:guid: None\n"
     ]
    },
    {
     "name": "stderr",
     "output_type": "stream",
     "text": [
      "INFO:tensorflow:guid: None\n"
     ]
    },
    {
     "name": "stdout",
     "output_type": "stream",
     "text": [
      "INFO:tensorflow:tokens: [CLS] if we ' ve learned anything in 2014 , it ' s that teenagers are to be both feared and revered . in a profile published over at new york magazine , one 17 - year - old new yorker confirms that he made $ 72 million trading stocks during his lunch break at his high school . someone please send help ! ! ! ! mohammed islam is the son of bengali immigrants who live in queens . he attends stu ##y ##ves ##ant high school in downtown manhattan . and now he is richer than all of us by an un ##fat ##hom ##able margin . the profile of islam doesn ' t seem willing to explain where he got the money to begin [SEP]\n"
     ]
    },
    {
     "name": "stderr",
     "output_type": "stream",
     "text": [
      "INFO:tensorflow:tokens: [CLS] if we ' ve learned anything in 2014 , it ' s that teenagers are to be both feared and revered . in a profile published over at new york magazine , one 17 - year - old new yorker confirms that he made $ 72 million trading stocks during his lunch break at his high school . someone please send help ! ! ! ! mohammed islam is the son of bengali immigrants who live in queens . he attends stu ##y ##ves ##ant high school in downtown manhattan . and now he is richer than all of us by an un ##fat ##hom ##able margin . the profile of islam doesn ' t seem willing to explain where he got the money to begin [SEP]\n"
     ]
    },
    {
     "name": "stdout",
     "output_type": "stream",
     "text": [
      "INFO:tensorflow:input_ids: 101 2065 2057 1005 2310 4342 2505 1999 2297 1010 2009 1005 1055 2008 12908 2024 2000 2022 2119 8615 1998 23886 1012 1999 1037 6337 2405 2058 2012 2047 2259 2932 1010 2028 2459 1011 2095 1011 2214 2047 19095 23283 2008 2002 2081 1002 5824 2454 6202 15768 2076 2010 6265 3338 2012 2010 2152 2082 1012 2619 3531 4604 2393 999 999 999 999 12619 7025 2003 1996 2365 1997 11267 7489 2040 2444 1999 8603 1012 2002 23933 24646 2100 6961 4630 2152 2082 1999 5116 7128 1012 1998 2085 2002 2003 26108 2084 2035 1997 2149 2011 2019 4895 27753 23393 3085 7785 1012 1996 6337 1997 7025 2987 1005 1056 4025 5627 2000 4863 2073 2002 2288 1996 2769 2000 4088 102\n"
     ]
    },
    {
     "name": "stderr",
     "output_type": "stream",
     "text": [
      "INFO:tensorflow:input_ids: 101 2065 2057 1005 2310 4342 2505 1999 2297 1010 2009 1005 1055 2008 12908 2024 2000 2022 2119 8615 1998 23886 1012 1999 1037 6337 2405 2058 2012 2047 2259 2932 1010 2028 2459 1011 2095 1011 2214 2047 19095 23283 2008 2002 2081 1002 5824 2454 6202 15768 2076 2010 6265 3338 2012 2010 2152 2082 1012 2619 3531 4604 2393 999 999 999 999 12619 7025 2003 1996 2365 1997 11267 7489 2040 2444 1999 8603 1012 2002 23933 24646 2100 6961 4630 2152 2082 1999 5116 7128 1012 1998 2085 2002 2003 26108 2084 2035 1997 2149 2011 2019 4895 27753 23393 3085 7785 1012 1996 6337 1997 7025 2987 1005 1056 4025 5627 2000 4863 2073 2002 2288 1996 2769 2000 4088 102\n"
     ]
    },
    {
     "name": "stdout",
     "output_type": "stream",
     "text": [
      "INFO:tensorflow:input_mask: 1 1 1 1 1 1 1 1 1 1 1 1 1 1 1 1 1 1 1 1 1 1 1 1 1 1 1 1 1 1 1 1 1 1 1 1 1 1 1 1 1 1 1 1 1 1 1 1 1 1 1 1 1 1 1 1 1 1 1 1 1 1 1 1 1 1 1 1 1 1 1 1 1 1 1 1 1 1 1 1 1 1 1 1 1 1 1 1 1 1 1 1 1 1 1 1 1 1 1 1 1 1 1 1 1 1 1 1 1 1 1 1 1 1 1 1 1 1 1 1 1 1 1 1 1 1 1 1\n"
     ]
    },
    {
     "name": "stderr",
     "output_type": "stream",
     "text": [
      "INFO:tensorflow:input_mask: 1 1 1 1 1 1 1 1 1 1 1 1 1 1 1 1 1 1 1 1 1 1 1 1 1 1 1 1 1 1 1 1 1 1 1 1 1 1 1 1 1 1 1 1 1 1 1 1 1 1 1 1 1 1 1 1 1 1 1 1 1 1 1 1 1 1 1 1 1 1 1 1 1 1 1 1 1 1 1 1 1 1 1 1 1 1 1 1 1 1 1 1 1 1 1 1 1 1 1 1 1 1 1 1 1 1 1 1 1 1 1 1 1 1 1 1 1 1 1 1 1 1 1 1 1 1 1 1\n"
     ]
    },
    {
     "name": "stdout",
     "output_type": "stream",
     "text": [
      "INFO:tensorflow:segment_ids: 0 0 0 0 0 0 0 0 0 0 0 0 0 0 0 0 0 0 0 0 0 0 0 0 0 0 0 0 0 0 0 0 0 0 0 0 0 0 0 0 0 0 0 0 0 0 0 0 0 0 0 0 0 0 0 0 0 0 0 0 0 0 0 0 0 0 0 0 0 0 0 0 0 0 0 0 0 0 0 0 0 0 0 0 0 0 0 0 0 0 0 0 0 0 0 0 0 0 0 0 0 0 0 0 0 0 0 0 0 0 0 0 0 0 0 0 0 0 0 0 0 0 0 0 0 0 0 0\n"
     ]
    },
    {
     "name": "stderr",
     "output_type": "stream",
     "text": [
      "INFO:tensorflow:segment_ids: 0 0 0 0 0 0 0 0 0 0 0 0 0 0 0 0 0 0 0 0 0 0 0 0 0 0 0 0 0 0 0 0 0 0 0 0 0 0 0 0 0 0 0 0 0 0 0 0 0 0 0 0 0 0 0 0 0 0 0 0 0 0 0 0 0 0 0 0 0 0 0 0 0 0 0 0 0 0 0 0 0 0 0 0 0 0 0 0 0 0 0 0 0 0 0 0 0 0 0 0 0 0 0 0 0 0 0 0 0 0 0 0 0 0 0 0 0 0 0 0 0 0 0 0 0 0 0 0\n"
     ]
    },
    {
     "name": "stdout",
     "output_type": "stream",
     "text": [
      "INFO:tensorflow:label: 1 (id = 0)\n"
     ]
    },
    {
     "name": "stderr",
     "output_type": "stream",
     "text": [
      "INFO:tensorflow:label: 1 (id = 0)\n"
     ]
    },
    {
     "data": {
      "text/plain": [
       "['head_bert', 'body_bert']"
      ]
     },
     "execution_count": 15,
     "metadata": {},
     "output_type": "execute_result"
    }
   ],
   "source": [
    "well.createBERTEncodings()"
   ]
  },
  {
   "cell_type": "code",
   "execution_count": 16,
   "metadata": {},
   "outputs": [
    {
     "data": {
      "text/plain": [
       "2867    <bert.run_classifier.InputFeatures object at 0...\n",
       "2094    <bert.run_classifier.InputFeatures object at 0...\n",
       "2198    <bert.run_classifier.InputFeatures object at 0...\n",
       "2520    <bert.run_classifier.InputFeatures object at 0...\n",
       "1056    <bert.run_classifier.InputFeatures object at 0...\n",
       "2478    <bert.run_classifier.InputFeatures object at 0...\n",
       "3331    <bert.run_classifier.InputFeatures object at 0...\n",
       "2       <bert.run_classifier.InputFeatures object at 0...\n",
       "3079    <bert.run_classifier.InputFeatures object at 0...\n",
       "1692    <bert.run_classifier.InputFeatures object at 0...\n",
       "3376    <bert.run_classifier.InputFeatures object at 0...\n",
       "1391    <bert.run_classifier.InputFeatures object at 0...\n",
       "3946    <bert.run_classifier.InputFeatures object at 0...\n",
       "3423    <bert.run_classifier.InputFeatures object at 0...\n",
       "2479    <bert.run_classifier.InputFeatures object at 0...\n",
       "2551    <bert.run_classifier.InputFeatures object at 0...\n",
       "1387    <bert.run_classifier.InputFeatures object at 0...\n",
       "4194    <bert.run_classifier.InputFeatures object at 0...\n",
       "4076    <bert.run_classifier.InputFeatures object at 0...\n",
       "1325    <bert.run_classifier.InputFeatures object at 0...\n",
       "Name: head_bert, dtype: object"
      ]
     },
     "execution_count": 16,
     "metadata": {},
     "output_type": "execute_result"
    }
   ],
   "source": [
    "well._df['head_bert']"
   ]
  },
  {
   "cell_type": "code",
   "execution_count": 17,
   "metadata": {},
   "outputs": [
    {
     "ename": "KeyError",
     "evalue": "1758",
     "output_type": "error",
     "traceback": [
      "\u001b[0;31m---------------------------------------------------------------------------\u001b[0m",
      "\u001b[0;31mKeyError\u001b[0m                                  Traceback (most recent call last)",
      "\u001b[0;32m<ipython-input-17-c3f0230a5217>\u001b[0m in \u001b[0;36m<module>\u001b[0;34m\u001b[0m\n\u001b[0;32m----> 1\u001b[0;31m \u001b[0mdir\u001b[0m\u001b[0;34m(\u001b[0m\u001b[0mwell\u001b[0m\u001b[0;34m.\u001b[0m\u001b[0m_df\u001b[0m\u001b[0;34m[\u001b[0m\u001b[0;34m'head_bert'\u001b[0m\u001b[0;34m]\u001b[0m\u001b[0;34m[\u001b[0m\u001b[0;36m1758\u001b[0m\u001b[0;34m]\u001b[0m\u001b[0;34m)\u001b[0m\u001b[0;34m\u001b[0m\u001b[0;34m\u001b[0m\u001b[0m\n\u001b[0m",
      "\u001b[0;32m/opt/conda/lib/python3.7/site-packages/pandas/core/series.py\u001b[0m in \u001b[0;36m__getitem__\u001b[0;34m(self, key)\u001b[0m\n\u001b[1;32m    869\u001b[0m         \u001b[0mkey\u001b[0m \u001b[0;34m=\u001b[0m \u001b[0mcom\u001b[0m\u001b[0;34m.\u001b[0m\u001b[0mapply_if_callable\u001b[0m\u001b[0;34m(\u001b[0m\u001b[0mkey\u001b[0m\u001b[0;34m,\u001b[0m \u001b[0mself\u001b[0m\u001b[0;34m)\u001b[0m\u001b[0;34m\u001b[0m\u001b[0;34m\u001b[0m\u001b[0m\n\u001b[1;32m    870\u001b[0m         \u001b[0;32mtry\u001b[0m\u001b[0;34m:\u001b[0m\u001b[0;34m\u001b[0m\u001b[0;34m\u001b[0m\u001b[0m\n\u001b[0;32m--> 871\u001b[0;31m             \u001b[0mresult\u001b[0m \u001b[0;34m=\u001b[0m \u001b[0mself\u001b[0m\u001b[0;34m.\u001b[0m\u001b[0mindex\u001b[0m\u001b[0;34m.\u001b[0m\u001b[0mget_value\u001b[0m\u001b[0;34m(\u001b[0m\u001b[0mself\u001b[0m\u001b[0;34m,\u001b[0m \u001b[0mkey\u001b[0m\u001b[0;34m)\u001b[0m\u001b[0;34m\u001b[0m\u001b[0;34m\u001b[0m\u001b[0m\n\u001b[0m\u001b[1;32m    872\u001b[0m \u001b[0;34m\u001b[0m\u001b[0m\n\u001b[1;32m    873\u001b[0m             \u001b[0;32mif\u001b[0m \u001b[0;32mnot\u001b[0m \u001b[0mis_scalar\u001b[0m\u001b[0;34m(\u001b[0m\u001b[0mresult\u001b[0m\u001b[0;34m)\u001b[0m\u001b[0;34m:\u001b[0m\u001b[0;34m\u001b[0m\u001b[0;34m\u001b[0m\u001b[0m\n",
      "\u001b[0;32m/opt/conda/lib/python3.7/site-packages/pandas/core/indexes/base.py\u001b[0m in \u001b[0;36mget_value\u001b[0;34m(self, series, key)\u001b[0m\n\u001b[1;32m   4402\u001b[0m         \u001b[0mk\u001b[0m \u001b[0;34m=\u001b[0m \u001b[0mself\u001b[0m\u001b[0;34m.\u001b[0m\u001b[0m_convert_scalar_indexer\u001b[0m\u001b[0;34m(\u001b[0m\u001b[0mk\u001b[0m\u001b[0;34m,\u001b[0m \u001b[0mkind\u001b[0m\u001b[0;34m=\u001b[0m\u001b[0;34m\"getitem\"\u001b[0m\u001b[0;34m)\u001b[0m\u001b[0;34m\u001b[0m\u001b[0;34m\u001b[0m\u001b[0m\n\u001b[1;32m   4403\u001b[0m         \u001b[0;32mtry\u001b[0m\u001b[0;34m:\u001b[0m\u001b[0;34m\u001b[0m\u001b[0;34m\u001b[0m\u001b[0m\n\u001b[0;32m-> 4404\u001b[0;31m             \u001b[0;32mreturn\u001b[0m \u001b[0mself\u001b[0m\u001b[0;34m.\u001b[0m\u001b[0m_engine\u001b[0m\u001b[0;34m.\u001b[0m\u001b[0mget_value\u001b[0m\u001b[0;34m(\u001b[0m\u001b[0ms\u001b[0m\u001b[0;34m,\u001b[0m \u001b[0mk\u001b[0m\u001b[0;34m,\u001b[0m \u001b[0mtz\u001b[0m\u001b[0;34m=\u001b[0m\u001b[0mgetattr\u001b[0m\u001b[0;34m(\u001b[0m\u001b[0mseries\u001b[0m\u001b[0;34m.\u001b[0m\u001b[0mdtype\u001b[0m\u001b[0;34m,\u001b[0m \u001b[0;34m\"tz\"\u001b[0m\u001b[0;34m,\u001b[0m \u001b[0;32mNone\u001b[0m\u001b[0;34m)\u001b[0m\u001b[0;34m)\u001b[0m\u001b[0;34m\u001b[0m\u001b[0;34m\u001b[0m\u001b[0m\n\u001b[0m\u001b[1;32m   4405\u001b[0m         \u001b[0;32mexcept\u001b[0m \u001b[0mKeyError\u001b[0m \u001b[0;32mas\u001b[0m \u001b[0me1\u001b[0m\u001b[0;34m:\u001b[0m\u001b[0;34m\u001b[0m\u001b[0;34m\u001b[0m\u001b[0m\n\u001b[1;32m   4406\u001b[0m             \u001b[0;32mif\u001b[0m \u001b[0mlen\u001b[0m\u001b[0;34m(\u001b[0m\u001b[0mself\u001b[0m\u001b[0;34m)\u001b[0m \u001b[0;34m>\u001b[0m \u001b[0;36m0\u001b[0m \u001b[0;32mand\u001b[0m \u001b[0;34m(\u001b[0m\u001b[0mself\u001b[0m\u001b[0;34m.\u001b[0m\u001b[0mholds_integer\u001b[0m\u001b[0;34m(\u001b[0m\u001b[0;34m)\u001b[0m \u001b[0;32mor\u001b[0m \u001b[0mself\u001b[0m\u001b[0;34m.\u001b[0m\u001b[0mis_boolean\u001b[0m\u001b[0;34m(\u001b[0m\u001b[0;34m)\u001b[0m\u001b[0;34m)\u001b[0m\u001b[0;34m:\u001b[0m\u001b[0;34m\u001b[0m\u001b[0;34m\u001b[0m\u001b[0m\n",
      "\u001b[0;32mpandas/_libs/index.pyx\u001b[0m in \u001b[0;36mpandas._libs.index.IndexEngine.get_value\u001b[0;34m()\u001b[0m\n",
      "\u001b[0;32mpandas/_libs/index.pyx\u001b[0m in \u001b[0;36mpandas._libs.index.IndexEngine.get_value\u001b[0;34m()\u001b[0m\n",
      "\u001b[0;32mpandas/_libs/index.pyx\u001b[0m in \u001b[0;36mpandas._libs.index.IndexEngine.get_loc\u001b[0;34m()\u001b[0m\n",
      "\u001b[0;32mpandas/_libs/hashtable_class_helper.pxi\u001b[0m in \u001b[0;36mpandas._libs.hashtable.Int64HashTable.get_item\u001b[0;34m()\u001b[0m\n",
      "\u001b[0;32mpandas/_libs/hashtable_class_helper.pxi\u001b[0m in \u001b[0;36mpandas._libs.hashtable.Int64HashTable.get_item\u001b[0;34m()\u001b[0m\n",
      "\u001b[0;31mKeyError\u001b[0m: 1758"
     ]
    }
   ],
   "source": [
    "dir(well._df['head_bert'][1758])"
   ]
  }
 ],
 "metadata": {
  "kernelspec": {
   "display_name": "Python 3",
   "language": "python",
   "name": "python3"
  },
  "language_info": {
   "codemirror_mode": {
    "name": "ipython",
    "version": 3
   },
   "file_extension": ".py",
   "mimetype": "text/x-python",
   "name": "python",
   "nbconvert_exporter": "python",
   "pygments_lexer": "ipython3",
   "version": "3.7.6"
  }
 },
 "nbformat": 4,
 "nbformat_minor": 4
}
