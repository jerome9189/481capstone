{
 "cells": [
  {
   "cell_type": "code",
   "execution_count": 20,
   "metadata": {},
   "outputs": [],
   "source": [
    "import pickle\n",
    "with open('training_stats_128_w9.pkl', 'rb') as f:\n",
    "    training_stats = pickle.load(f)"
   ]
  },
  {
   "cell_type": "code",
   "execution_count": 21,
   "metadata": {},
   "outputs": [
    {
     "data": {
      "text/plain": [
       "[{'epoch': 1,\n",
       "  'Training Loss': 0.44668383219207203,\n",
       "  'Valid. Loss': 0.4879898134566529,\n",
       "  'Valid. Accur.': 0.941681338028169,\n",
       "  'Training Time': '0:07:53',\n",
       "  'Validation Time': '0:00:15',\n",
       "  'Valid. FNC Score': 1866.0,\n",
       "  'Valid. Max FNC Score': 2061.5,\n",
       "  'Relative FNC Score': 0.90516614115935},\n",
       " {'epoch': 2,\n",
       "  'Training Loss': 0.1605644081283892,\n",
       "  'Valid. Loss': 0.7052708208572421,\n",
       "  'Valid. Accur.': 0.9408488977342315,\n",
       "  'Training Time': '0:07:57',\n",
       "  'Validation Time': '0:00:15',\n",
       "  'Valid. FNC Score': 1855.25,\n",
       "  'Valid. Max FNC Score': 2061.5,\n",
       "  'Relative FNC Score': 0.8999514916323066},\n",
       " {'epoch': 3,\n",
       "  'Training Loss': 0.07430597099940404,\n",
       "  'Valid. Loss': 0.8685311850487881,\n",
       "  'Valid. Accur.': 0.9431357164727495,\n",
       "  'Training Time': '0:07:55',\n",
       "  'Validation Time': '0:00:15',\n",
       "  'Valid. FNC Score': 1870.5,\n",
       "  'Valid. Max FNC Score': 2061.5,\n",
       "  'Relative FNC Score': 0.9073490177055542},\n",
       " {'epoch': 4,\n",
       "  'Training Loss': 0.03103485879683818,\n",
       "  'Valid. Loss': 0.8513985766556186,\n",
       "  'Valid. Accur.': 0.9475371249234538,\n",
       "  'Training Time': '0:07:54',\n",
       "  'Validation Time': '0:00:15',\n",
       "  'Valid. FNC Score': 1884.5,\n",
       "  'Valid. Max FNC Score': 2061.5,\n",
       "  'Relative FNC Score': 0.914140189182634}]"
      ]
     },
     "execution_count": 21,
     "metadata": {},
     "output_type": "execute_result"
    }
   ],
   "source": [
    "training_stats"
   ]
  },
  {
   "cell_type": "code",
   "execution_count": null,
   "metadata": {},
   "outputs": [],
   "source": []
  }
 ],
 "metadata": {
  "kernelspec": {
   "display_name": "Python 3",
   "language": "python",
   "name": "python3"
  },
  "language_info": {
   "codemirror_mode": {
    "name": "ipython",
    "version": 3
   },
   "file_extension": ".py",
   "mimetype": "text/x-python",
   "name": "python",
   "nbconvert_exporter": "python",
   "pygments_lexer": "ipython3",
   "version": "3.8.2"
  }
 },
 "nbformat": 4,
 "nbformat_minor": 4
}
